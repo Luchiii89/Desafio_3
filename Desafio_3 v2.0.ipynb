{
 "cells": [
  {
   "cell_type": "markdown",
   "id": "151e2d0a",
   "metadata": {},
   "source": [
    "# DIGITAL HOUSE - DATA SCIENCE - GRUPO 6\n",
    "\n",
    "# Desafío 3 - Modelos de clasificación.\n",
    "\n",
    "## Aplicación a la detección de fraudes con tarjetas de crédito.\n",
    "\n",
    "Integrantes:\n",
    "\n",
    "*    Luciana Sande\n",
    "*    Bianca Somadossi\n",
    "*    Verónica del Río\n"
   ]
  },
  {
   "cell_type": "markdown",
   "id": "f2c1bf7d",
   "metadata": {},
   "source": [
    "---\n",
    "\n",
    "<a id=\"indice\"></a> \n",
    "## **Índice**\n",
    "\n",
    "- [1. Introducción](#intro)\n",
    "\n",
    "- [2. Objetivos del trabajo](#objetivos)\n",
    "\n",
    "- [3.  El problema de la detección del fraude y el uso de Machine Learning para la detección de estos](#problema_fraude)\n",
    "\n",
    "- [4. Evaluación de modelos de decisión](#evaluacion_modelos)\n",
    "\n",
    "    - [4.1. Regresión Logística](#modelo_regresion)\n",
    "\n",
    "    - [4.2. Support-vector machines (SVM)](#modelo_svm)\n",
    "\n",
    "    - [4.3. Random Forest](#modelo_random_forest)\n",
    "\n",
    "- [5. Desarrollo](#desarrollo)\n",
    "\n",
    "    - [5.1. Entorno de implementación](#implementacion)\n",
    "\n",
    "    - [5.2. Procesamiento de los datos](#procesamiento)\n",
    "    \n",
    "        - [5.2.1. Importación del dataset](#dataset)\n",
    "        \n",
    "        - [5.2.2. Exploración del dataset](#exploracion)\n",
    "        \n",
    "        - [5.2.3. Análisis de datos exploratorio](#analisis_exploratorio)\n",
    "            \n",
    "            - [5.2.3.1. Visualizaciones de las variables Time & Amount](#visualizacion_time_amount)\n",
    "            \n",
    "            - [5.2.3.2. Correlación entra las variables](#correlacion)\n",
    "            \n",
    "    - [5.3. Preparación de los datos](#estandarizacion)\n",
    "\n",
    "    - [5.4. Estrategias para el manejo de datos desbalanceados](#estrategias)\n",
    "\n",
    "    - [5.5. Definición de funciones](#funciones)\n",
    "\n",
    "    - [5.6. Definición de features, target y sets de train & test](#train_test)\n",
    "    \n",
    "    - [5.7. Modelos de Clasificación](#modelos_clf)\n",
    "\n",
    "        - [5.7.1. Regresión logística sin aplicar estrategias para el manejo de desbalanceo](#rl)\n",
    "\n",
    "        - [5.7.2. Regresión logística aplicando técnica de penalización para compensar desequilibrio](#rl_penalizacion)\n",
    "\n",
    "        - [5.7.3. NearMiss. Regresión logística aplicando la técnica de subsampling en la clase mayoritaria](#near_miss)\n",
    "    \n",
    "        - [5.7.4. RandomOverSampler. Regresión logística aplicando la técnica de oversampling en la clase minoritaria](#oversampler)\n",
    "\n",
    "        - [5.7.5. SMOTETomek. Regresión logística combinando resampling con Smote-Tomek](#smotetomek)\n",
    "        \n",
    "        - [5.7.6. BalancedBaggingClassifier. Regresión logística con ensamble de modelos con balanceo](#bbc)        \n",
    "        \n",
    "    - [5.8. Resultados de la aplicación de las estrategias para clases desbalanceadas](#resultados_estrategias)\n",
    "        \n",
    "    - [ 5.9. Support-vector machines, SVM](#svm)\n",
    "    \n",
    "    - [5.10. Ranfom Forest](#random)\n",
    "    \n",
    "    - [5.11. Naive Bayes](#naive_bayes)\n",
    "\n",
    "- [6. Resultados finales](#fin)\n",
    "\n",
    "- [7. Conclusiones](#conclusiones)\n",
    "\n"
   ]
  },
  {
   "cell_type": "markdown",
   "id": "6c28939c",
   "metadata": {},
   "source": [
    "<p style='text-align: justify;'>A partir del uso de las tarjetas de crédito se ha producido un crecimiento comercial global de las economías tanto en países emergentes como en los desarrollados. El crecimiento exponencial de los sistemas de transferencia de dinero en línea ha contribuido en la expansión del comercio electrónico y a un número mayor de consumidores de bienes y servicios desde y hacia cualquier lugar del mundo. </p>\n",
    "\n",
    "<p style='text-align: justify;'>A su vez, durante la pandemia del COVID-19 se ha producido un fuerte incremento del fraude en el ámbito de los pagos − en forma de phishing, vishing, spoofing, robo de la identidad, fraude con tarjeta, contracargos y apropiación de cuentas −, ya que el confinamiento ha propiciado, por un lado, un cambio hacia las transacciones digitales y, por otro, una reducción de diversas medidas de seguridad, como el incremento de los límites en los pagos sin contacto. </p>\n",
    "\n",
    "<p style='text-align: justify;'>No obstante, el fraude en los pagos ya era un problema mucho antes de la pandemia tal como surge del informe ***Fraud in cash and electronic payments: taxonomy, estimation and projections*** de Santiago Carbó Valverde y Francisco Rodríguez Fernández realizado para la International Security Ligue previo a la pandemia. Dicho informe muestra las alternativas de fraude en los pagos y ofrece una estimación empírica del valor de éste en los pagos con tarjeta.</p>\n",
    "\n",
    "<p style='text-align: justify;'>En este sentido, el aprendizaje automático se está convirtiendo en una herramienta esencial para las empresas de la industria bancaria, ya que la tecnología se puede utilizar para reducir riesgos, mejorar la seguridad, brindar un servicio rápido y personalizado para atender a los clientes o mejorar la rentabilidad de sus operaciones comerciales.</p>"
   ]
  },
  {
   "cell_type": "markdown",
   "id": "e1498e34",
   "metadata": {},
   "source": [
    "---\n",
    "<a id=\"intro\"></a> \n",
    "## 1. Introducción.\n",
    "[Ir a índice](#indice)"
   ]
  },
  {
   "cell_type": "markdown",
   "id": "410e6d90",
   "metadata": {},
   "source": [
    "---\n",
    "<a id=\"objetivos\"></a> \n",
    "## 2. Objetivos del trabajo.\n",
    "[Ir a índice](#indice)"
   ]
  },
  {
   "cell_type": "markdown",
   "id": "9116ba47",
   "metadata": {},
   "source": [
    "<p style='text-align: justify;'>Si bien el objetivo específico del presente trabajo es ayudar a la comprensión del uso de las técnicas de machine learning -en adelante, ML- mediante el uso de modelos de clasificación a fin de análizar casos de fraude con tarjetas bancarias y estimar la eficiencia de modelos de ML para identificar patrones que permitan emitir alertas ante la comisión de éstos, el objetivo general es aprender y aplicar dichas técnicas a datos financieros a través del análisis de sets de datos entregados con información histórica de los clientes.</p>\n",
    "\n",
    "<p style='text-align: justify;'>A tales efectos, luego de seleccionar los datos a modelar, se procederá a entrenar tres modelos de clasificación sobre dichos datos para posteriormente evaluar la performance de estos y comparar las ventajas y desventajas de cada uno.</p>\n",
    "\n",
    "<p style='text-align: justify;'>Asimismo, a posteriori, se interpretará la importancia de las features incluidas en la predicción.  </p>\n"
   ]
  },
  {
   "cell_type": "markdown",
   "id": "8a0fde2e",
   "metadata": {},
   "source": [
    "---\n",
    "<a id=\"problema_fraude\"></a> \n",
    "## 3. El problema de la detección del fraude y el uso de ML para su detección.\n",
    "[Ir a índice](#indice)"
   ]
  },
  {
   "cell_type": "markdown",
   "id": "52665f9a",
   "metadata": {},
   "source": [
    "A fin de detectar la posible comisión de fraudes es de relevancia analizar los perfiles de los usuarios, ya que dicho análisis permite encontrar anomalías.\n",
    "\n",
    "En la práctica, la construcción de perfiles de usuario consta de:\n",
    "\n",
    "1.\tLimpieza de datos\n",
    "\n",
    "2.\tSelección y extracción de características que permitan detectar cambios en los comportamientos que indiquen la presencia de fraudes.\n",
    "\n",
    "3.\tModelamiento, a fin de detectar, mediante un clasificador, patrones de fraude.\n",
    "\n",
    "4.\tMonitoreo y predicción de fraude, a efectos de emitir las alarmas correspondientes.\n"
   ]
  },
  {
   "cell_type": "markdown",
   "id": "ec24e479",
   "metadata": {},
   "source": [
    "---\n",
    "<a id=\"evaluacion_modelos\"></a> \n",
    "## 4. Evaluación de los modelos de decisión.\n",
    "[Ir a índice](#indice)"
   ]
  },
  {
   "cell_type": "markdown",
   "id": "9e0da8a9",
   "metadata": {},
   "source": [
    "Los modelos de decisión ajustados en la etapa de construcción de modelos suelen cometer errores de clasificación. La evaluación de los modelos nos indicara el modelo que se equivoque lo menos posible."
   ]
  },
  {
   "cell_type": "markdown",
   "id": "bc2b7aa2",
   "metadata": {},
   "source": [
    "### Modelos utilizados:"
   ]
  },
  {
   "cell_type": "markdown",
   "id": "bd518867",
   "metadata": {},
   "source": [
    "A los efectos mencionados se utilizarán los siguientes modelos:\n"
   ]
  },
  {
   "cell_type": "markdown",
   "id": "6ac3fb57",
   "metadata": {},
   "source": [
    "#### A.\tRegresión logística\n",
    "\n",
    "#### B.\tSupport-vector machines, SVM\n",
    "\n",
    "#### C.\tRandom Forest"
   ]
  },
  {
   "cell_type": "markdown",
   "id": "008a1b22",
   "metadata": {},
   "source": [
    "---\n",
    "<a id=\"modelo_regresion\"></a> \n",
    "## 4.1. Modelo I - Regresión Logística.\n",
    "[Ir a índice](#indice)"
   ]
  },
  {
   "cell_type": "markdown",
   "id": "d290f29c",
   "metadata": {},
   "source": [
    "<p style='text-align: justify;'>La regresión logística o Logistic Regression es un algoritmo de clasificación que se utiliza para predecir la probabilidad de una variable dependiente categórica. En la regresión logística, la variable dependiente es una variable binaria que contiene datos codificados como 1 – 0, sí – no, abierto – cerrado, etc.</p>\n",
    "\n",
    "<p style='text-align: justify;'>Este modelo logístico binario se utiliza para estimar la probabilidad de una respuesta binaria basada en una o más variables predictoras o independientes. Permite decir que la presencia de un factor de riesgo aumenta la probabilidad de un resultado dado un porcentaje específico.</p>\n",
    "\n",
    "<p style='text-align: justify;'>Como todos los análisis de regresión, la regresión logística es un análisis predictivo. Se usa para describir datos y explicar la relación entre una variable binaria dependiente y una o más variables independientes nominales, ordinales, de intervalo o de nivel de razón.</p>\n",
    "\n",
    "<p style='text-align: justify;'>La regresión logística requiere tamaños de muestra bastante grandes.</p>\n",
    "\n",
    "<p style='text-align: justify;'>La razón por la cual la regresión logística es ampliamente utilizada, a pesar de los algoritmos avanzados como redes neuronales profunda, es porque es muy eficiente y no requiere demasiados recursos computacionales que hacen que sea asequibles ejecutar la producción.</p>\n",
    "\n",
    "### *Características que se deben considerar para este algoritmo*:\n",
    "\n",
    "**Variable de salida binaria**. Dado que la regresión logística está destinada a problemas de clasificación binarios. Predicará la probabilidad de que una instancia pertenezca a la clase predeterminada, que puede dividirse en una clasificación 0 ó 1.\n",
    "\n",
    "**Eliminar ruido**. La regresión logística no asume ningún error en la variable de salida (y). Considera la eliminación de los valores atípicos y posiblemente las instancias más clasificadas de sus datos de entrenamiento.\n",
    "\n",
    "**Distribución gaussiana**. La regresión logística es un algoritmo lineal, con una transformación no lineal en la salida. Las transformaciones de datos de sus variables de entrada que exponen mejor esta relación lineal pueden dar como resultado un modelo más preciso.\n",
    "**Eliminar entradas correlacionadas**. Al igual que la regresión lineal, el modelo puede sobreajustarse si tiene múltiples entradas altamente correlacionadas.\n",
    "\n",
    "**No se puede converger**. Es posible que el proceso de estimación de probabilidad esperado aprenda que los coeficientes no convergen, esto puede suceder si hay muchas entradas altamente correlacionadas en sus datos o si los datos son muy escasos.\n"
   ]
  },
  {
   "cell_type": "markdown",
   "id": "4b176005",
   "metadata": {},
   "source": [
    "### Ventajas y desventajas del uso de la Regresión logística:"
   ]
  },
  {
   "cell_type": "markdown",
   "id": "f49ae409",
   "metadata": {},
   "source": [
    "#### A) Ventajas"
   ]
  },
  {
   "cell_type": "markdown",
   "id": "2be486eb",
   "metadata": {},
   "source": [
    "•\tEficacia y simplicidad. \n",
    "\n",
    "•\tNo necesita disponer de grandes recursos computacionales, tanto en entrenamiento como en ejecución. \n",
    "\n",
    "•\tLos resultados son altamente interpretables. \n",
    "\n",
    "•\tEl peso de cada una de las características determina la importancia que tiene en la decisión final. \n"
   ]
  },
  {
   "cell_type": "markdown",
   "id": "28e7b616",
   "metadata": {},
   "source": [
    "#### B) Desventajas"
   ]
  },
  {
   "cell_type": "markdown",
   "id": "dfc774b3",
   "metadata": {},
   "source": [
    "•\tNo es una herramienta útil para identificar las características más adecuadas. Siendo necesario identificar estas mediante otros métodos\n",
    "\n",
    "•\tNo es uno de los algoritmos más potentes que existen. Pudiendo ser superado fácilmente por otros más complejos.\n",
    "\n",
    "•\tNo funciona bien en problemas que no son linealmente separables\n"
   ]
  },
  {
   "cell_type": "markdown",
   "id": "08334427",
   "metadata": {},
   "source": [
    "---\n",
    "<a id=\"modelo_svm\"></a> \n",
    "## 4.2. Modelo II - Support-vector machines (SVM).\n",
    "[Ir a índice](#indice)"
   ]
  },
  {
   "cell_type": "markdown",
   "id": "06ae0dc9",
   "metadata": {},
   "source": [
    "<p style='text-align: justify;'>Una máquina de vectores de soporte es un enfoque, generalmente utilizado para realizar tareas de clasificación, que utiliza un hiperplano de separación en el espacio multidimensional para realizar una tarea determinada. Técnicamente hablando, en un espacio p dimensional, un hiperplano es un subespacio plano con dimensiones p-1. Por ejemplo, en dos dimensiones, un hiperplano es un subespacio unidimensional plano o una línea. En tres dimensiones, un hiperplano es un subespacio bidimensional plano, es decir, un plano.</p>"
   ]
  },
  {
   "cell_type": "markdown",
   "id": "d3e91128",
   "metadata": {},
   "source": [
    "### Ventajas y desventajas del uso de SMV"
   ]
  },
  {
   "cell_type": "markdown",
   "id": "256f205c",
   "metadata": {},
   "source": [
    "#### Ventajas"
   ]
  },
  {
   "cell_type": "markdown",
   "id": "67574554",
   "metadata": {},
   "source": [
    "•\tOfrecen una buena precisión y realizan predicciones más rápidas en comparación con el algoritmo de Naive Bayes. \n",
    "\n",
    "•\tUtilizan menos memoria porque utilizan un subconjunto de puntos de entrenamiento en la fase de decisión. \n",
    "\n",
    "•\tFunciona bien con un claro margen de separación y con un espacio dimensional elevado.\n"
   ]
  },
  {
   "cell_type": "markdown",
   "id": "e1ad92a5",
   "metadata": {},
   "source": [
    "#### Desventajas"
   ]
  },
  {
   "cell_type": "markdown",
   "id": "ee85736f",
   "metadata": {},
   "source": [
    "•\tNo son adecuadas para grandes conjuntos de datos debido a su alto tiempo de formación.\n",
    "\n",
    "•\tRequiere más tiempo de formación en comparación con otros clasificadores como Naive Bayes.\n",
    "\n",
    "•\tFunciona mal con clases superpuestas y también es sensible al tipo de núcleo utilizado.\n"
   ]
  },
  {
   "cell_type": "markdown",
   "id": "32dfa37d",
   "metadata": {},
   "source": [
    "---\n",
    "<a id=\"modelo_random_forest\"></a>\n",
    "## 4.3. Modelo III - Random Forest.\n",
    "[Ir a índice](#indice)"
   ]
  },
  {
   "cell_type": "markdown",
   "id": "230a160c",
   "metadata": {},
   "source": [
    "La idea que hay detrás de un bosque aleatorio es promediar árboles de decisión múltiples (profundos) que individualmente sufren una elevada varianza para crear un modelo más robusto que tengan un mejor rendimiento de generalización y sea menos susceptible al sobreajuste. Así, el algoritmo del bosque aleatorio se puede resumir en cuatro pasos:\n",
    "\n",
    "* 1.\tDibuja una muestra Bootstrap aleatoria de tamaño n (elige al azar muestras n del conjunto de entrenamiento con reemplazo).\n",
    "*  2.\tCrea un árbol de decisión a partir de la muestra Bootstrap y, para cada nodo:\n",
    "    * a.\tSelecciona al azar características d sin reemplazo.\n",
    "    * b.\tDivide el nodo utilizando la característica que proporciona la mejor división según la función objetivo.\n",
    "* 3.\tRepite los pasos 1-2 K veces\n",
    "* 4.\tAñade la predicción para cada árbol para asignar la etiqueta de clase por mayoría de votos.\n",
    "\n",
    "Aunque los bosques aleatorios no ofrecen el mismo nivel de interpretabilidad que los bosques de decisión, poseen la ventaja de que no debemos preocuparnos demasiado por elegir unos buenos valores de hiperparámetro. Normalmente no es necesario podar los bosques puesto que el modelo es bastante robusto ante el ruido de los árboles de decisión individuales.\n",
    "\n",
    "Mediante el tamaño de la muestra n de la Bootstrap controlamos la compensación entre varianza y sesgo del bosque aleatorio.\n",
    "\n",
    "Reducir el tamaño de la muestra Bootstrap aumenta la diversidad entre los árboles individuales aumentando la aleatoriedad del bosque y esto puede ayudar al efecto de sobreajuste."
   ]
  },
  {
   "cell_type": "markdown",
   "id": "36154890",
   "metadata": {},
   "source": [
    "Dado que uno de los problemas que tiene el uso de un árbol de decisión es que, si le damos la profundidad suficiente, el modelo tiende al ***overfitting***, ésta es la razón por la cual optamos por trabajar con bosques aleatorios.\n",
    "\n",
    "A tales efectos se seguirán los siguientes pasos:\n",
    "\n",
    "1)\tSeleccionamos k features (columnas) de las m totales (siendo k menor a m) y creamos un árbol de decisión con esas k características.\n",
    "\n",
    "2)\tCreamos n árboles variando siempre la cantidad de k features aunque también podríamos variar la cantidad de muestras que pasamos a esos árboles es decir, hacer un *bootstrap sample*.\n",
    "\n",
    "3) Tomamos cada uno de los n árboles y le pedimos que hagan una misma clasificación. Guardamos el resultado de cada árbol obteniendo n salidas.\n",
    "\n",
    "4)\tCalculamos los votos obtenidos para cada *clase* seleccionada y consideraremos a la más votada como la clasificación final de nuestro “bosque”.\n"
   ]
  },
  {
   "cell_type": "markdown",
   "id": "438fb958",
   "metadata": {},
   "source": [
    "El sobreajuste es un problema común en el ML donde un modelo funciona bien en el entrenamiento pero no generaliza bien con los datos de prueba. Si se da un sobreajuste es porque tiene una alta varianza, causada tal vez por tener demasiados parámetros."
   ]
  },
  {
   "cell_type": "markdown",
   "id": "ed31add5",
   "metadata": {},
   "source": [
    "El sobreajuste es un problema común en el ML donde un modelo funciona bien en el entrenamiento pero no generaliza bien con los datos de prueba. Si se da un sobreajuste es porque tiene una alta varianza, causada tal vez por tener demasiados parámetros.\n",
    "\n",
    "El modelo puede sufrir de subajuste si tiene un sesgo elevado y por lo tanto no es lo suficientemente complejo como para captar correctamente el patrón de los datos de entrenamiento lo que lleva a un bajo rendimiento por los datos no vistos."
   ]
  },
  {
   "cell_type": "markdown",
   "id": "13bb53b9",
   "metadata": {},
   "source": [
    "### Ventajas y Desventajas del uso de Random Forest"
   ]
  },
  {
   "cell_type": "markdown",
   "id": "5ab79cc0",
   "metadata": {},
   "source": [
    "#### Ventajas"
   ]
  },
  {
   "cell_type": "markdown",
   "id": "f6836ca7",
   "metadata": {},
   "source": [
    "•\tFunciona bien -aún- sin ajuste de hiperparámetros\n",
    "\n",
    "•\tFunciona bien para problemas de clasificación y también de regresión.\n",
    "\n",
    "•\tAl utilizar múltiples árboles se reduce considerablemente el riesgo de overfiting\n",
    "\n",
    "•\tEs estable con nuevas muestras pues al utilizar cientos de árboles sigue prevaleciendo el promedio de sus votaciones.\n"
   ]
  },
  {
   "cell_type": "markdown",
   "id": "a813ae76",
   "metadata": {},
   "source": [
    "#### Desventajas"
   ]
  },
  {
   "cell_type": "markdown",
   "id": "214c37ab",
   "metadata": {},
   "source": [
    "•\tEn algunos datos de entrada ***particulares*** random forest también puede caer en *overfitting*.\n",
    "\n",
    "•\tEs mucho más ***costoso*** de crear y ejecutar que ***un sólo árbol” de decisión***.\n",
    "\n",
    "•\tPuede requerir muchísimo tiempo de entrenamiento.\n",
    "\n",
    "•\tRandom Forest no funciona bien con datasets pequeños.\n",
    "\n",
    "•\tEs muy difícil poder interpretar todos los árboles creados en el bosque, lo que redunda es la dificultad para explicar a un cliente su comportamiento.\n"
   ]
  },
  {
   "cell_type": "markdown",
   "id": "135e6f8f",
   "metadata": {},
   "source": [
    "---\n",
    "<a id=\"desarrollo\"></a> \n",
    "# 5. Desarrollo.\n",
    "[Ir a índice](#indice)"
   ]
  },
  {
   "cell_type": "markdown",
   "id": "68e2cf73",
   "metadata": {},
   "source": [
    "<a id=\"implementacion\"></a>\n",
    "## 5.1. Entorno de implementación."
   ]
  },
  {
   "cell_type": "code",
   "execution_count": 51,
   "id": "4b60308b",
   "metadata": {},
   "outputs": [],
   "source": [
    "# initial setup\n",
    "# %run \"common/0_notebooks_base_setup.py\""
   ]
  },
  {
   "cell_type": "code",
   "execution_count": 2,
   "id": "6bd9cf80",
   "metadata": {},
   "outputs": [],
   "source": [
    "#importamos de todas las librerías que vamos a utilizar\n",
    "\n",
    "import numpy as np\n",
    "import pandas as pd\n",
    "import seaborn as sns\n",
    "\n",
    "import matplotlib.pyplot as plt\n",
    "\n",
    "get_ipython().run_line_magic('matplotlib','inline')\n",
    "\n",
    "import os\n",
    "import itertools\n",
    "\n",
    "#Scale-data\n",
    "from sklearn.preprocessing import StandardScaler\n",
    "\n",
    "#Over-sample data\n",
    "from imblearn.over_sampling import SMOTE\n",
    "\n",
    "#Clasifiers\n",
    "from sklearn.naive_bayes import BernoulliNB, GaussianNB\n",
    "from sklearn.linear_model import LogisticRegression\n",
    "from sklearn.tree import DecisionTreeClassifier\n",
    "from imblearn.under_sampling import NearMiss\n",
    "from imblearn.over_sampling import RandomOverSampler\n",
    "from imblearn.combine import SMOTETomek\n",
    "from imblearn.ensemble import BalancedBaggingClassifier\n",
    "from sklearn.ensemble import RandomForestClassifier\n",
    "from sklearn.svm import SVC\n",
    "\n",
    "\n",
    "#Cross-validation\n",
    "# from sklearn.model_selection import cross_val_score\n",
    "\n",
    "#Split data in test & train\n",
    "from sklearn.model_selection import train_test_split\n",
    "\n",
    "#Get metrics\n",
    "from sklearn.metrics import accuracy_score, f1_score, precision_score, roc_auc_score, recall_score, confusion_matrix, classification_report, roc_curve\n",
    "\n",
    "# from sklearn.feature_selection import SelectKBest\n",
    "\n",
    "from collections import Counter\n",
    "\n",
    "%matplotlib inline\n"
   ]
  },
  {
   "cell_type": "code",
   "execution_count": 53,
   "id": "bf66b6c1",
   "metadata": {},
   "outputs": [],
   "source": [
    "pd.options.display.float_format='{:,.2f}'.format"
   ]
  },
  {
   "cell_type": "markdown",
   "id": "2598406c",
   "metadata": {},
   "source": [
    "---\n",
    "<a id=\"procesamiento\"></a> \n",
    "## 5.2. Procesamiento de los datos.\n",
    "[Ir a índice](#indice)"
   ]
  },
  {
   "cell_type": "markdown",
   "id": "7576a7ba",
   "metadata": {},
   "source": [
    "<a id=\"dataset\"></a> \n",
    "### 5.2.1 Importación del dataset."
   ]
  },
  {
   "cell_type": "markdown",
   "id": "145f580a",
   "metadata": {},
   "source": [
    "Utilizaremos un conjunto de datos publicado en Kaggle, relacionado con la detección de fraudes con tarjetas de crédito."
   ]
  },
  {
   "cell_type": "markdown",
   "id": "a30e87be",
   "metadata": {},
   "source": [
    "Para acceder al dataset original haga click <a href=\"https://www.kaggle.com/mlg-ulb/creditcardfraud\" target=\"_blank\">aquí</a>"
   ]
  },
  {
   "cell_type": "markdown",
   "id": "259df959",
   "metadata": {},
   "source": [
    "El conjunto de datos contiene transacciones realizadas con tarjetas de crédito en septiembre de 2013 por titulares de tarjetas europeos, durante el transcurso de dos días.\n",
    "\n",
    "En total, contempla 492 fraudes de 284.807 transacciones. El conjunto de datos está muy desequilibrado, la clase positiva (fraudes) representa el 0,172 % de todas las transacciones.\n",
    "\n",
    "Cuenta solo con variables de entrada numéricas, que son el resultado de una transformación PCA. Desafortunadamente, debido a problemas de confidencialidad, no es posible proporcionar las características originales ni más información general sobre los datos. \n",
    "\n",
    "Las características o features V1, V2, … V28 son los principales componentes obtenidos con PCA. Las únicas características que no han sido transformadas con PCA son 'Tiempo' y 'Cantidad'. \n",
    "\n",
    "La característica 'Tiempo' (Time) representa los segundos transcurridos entre cada transacción y la primera transacción del conjunto de datos. \n",
    "\n",
    "La función 'Cantidad' (Amount) representa el monto de la transacción.\n",
    "\n",
    "La feature 'Class' es la variable de respuesta y toma valor 1 en caso de fraude y 0 en caso contrario."
   ]
  },
  {
   "cell_type": "markdown",
   "id": "2099e1c0",
   "metadata": {},
   "source": [
    "En estadística, el análisis de componentes principales (en español ACP; en inglés, PCA) es una técnica utilizada para describir un conjunto de datos en términos de nuevas variables («componentes») no correlacionadas. Los componentes se ordenan por la cantidad de varianza original que describen, por lo que la técnica es útil para reducir la dimensionalidad de un conjunto de datos.\n",
    "\n",
    "Técnicamente, el PCA busca la proyección según la cual los datos queden mejor representados en términos de mínimos cuadrados. Esta convierte un conjunto de observaciones de variables posiblemente correlacionadas en un conjunto de valores de variables sin correlación lineal, llamadas componentes principales.\n",
    "\n",
    "El PCA se emplea sobre todo en análisis exploratorio de datos y para construir modelos predictivos. El PCA comporta el cálculo de la descomposición en autovalores de la matriz de covarianza, normalmente tras centrar los datos en la media de cada atributo."
   ]
  },
  {
   "cell_type": "code",
   "execution_count": 4,
   "id": "1a9acbc2",
   "metadata": {},
   "outputs": [
    {
     "ename": "UnicodeDecodeError",
     "evalue": "'utf-8' codec can't decode byte 0xe3 in position 14: invalid continuation byte",
     "output_type": "error",
     "traceback": [
      "\u001b[1;31m---------------------------------------------------------------------------\u001b[0m",
      "\u001b[1;31mUnicodeDecodeError\u001b[0m                        Traceback (most recent call last)",
      "\u001b[1;32m~\\AppData\\Local\\Temp/ipykernel_13840/1495627083.py\u001b[0m in \u001b[0;36m<module>\u001b[1;34m\u001b[0m\n\u001b[0;32m      3\u001b[0m \u001b[0mdata_location\u001b[0m \u001b[1;33m=\u001b[0m \u001b[1;34m\"BankChurners.csv\"\u001b[0m\u001b[1;33m\u001b[0m\u001b[1;33m\u001b[0m\u001b[0m\n\u001b[0;32m      4\u001b[0m \u001b[1;33m\u001b[0m\u001b[0m\n\u001b[1;32m----> 5\u001b[1;33m \u001b[0mdf\u001b[0m \u001b[1;33m=\u001b[0m \u001b[0mpd\u001b[0m\u001b[1;33m.\u001b[0m\u001b[0mread_csv\u001b[0m\u001b[1;33m(\u001b[0m\u001b[0mdata_location\u001b[0m\u001b[1;33m,\u001b[0m \u001b[0msep\u001b[0m\u001b[1;33m=\u001b[0m\u001b[1;34m\",\"\u001b[0m\u001b[1;33m,\u001b[0m \u001b[0mencoding\u001b[0m\u001b[1;33m=\u001b[0m\u001b[1;34m\"UTF-8\"\u001b[0m\u001b[1;33m)\u001b[0m\u001b[1;33m\u001b[0m\u001b[1;33m\u001b[0m\u001b[0m\n\u001b[0m",
      "\u001b[1;32m~\\anaconda3\\envs\\dhdsblend2021\\lib\\site-packages\\pandas\\io\\parsers.py\u001b[0m in \u001b[0;36mread_csv\u001b[1;34m(filepath_or_buffer, sep, delimiter, header, names, index_col, usecols, squeeze, prefix, mangle_dupe_cols, dtype, engine, converters, true_values, false_values, skipinitialspace, skiprows, skipfooter, nrows, na_values, keep_default_na, na_filter, verbose, skip_blank_lines, parse_dates, infer_datetime_format, keep_date_col, date_parser, dayfirst, cache_dates, iterator, chunksize, compression, thousands, decimal, lineterminator, quotechar, quoting, doublequote, escapechar, comment, encoding, dialect, error_bad_lines, warn_bad_lines, delim_whitespace, low_memory, memory_map, float_precision)\u001b[0m\n\u001b[0;32m    686\u001b[0m     )\n\u001b[0;32m    687\u001b[0m \u001b[1;33m\u001b[0m\u001b[0m\n\u001b[1;32m--> 688\u001b[1;33m     \u001b[1;32mreturn\u001b[0m \u001b[0m_read\u001b[0m\u001b[1;33m(\u001b[0m\u001b[0mfilepath_or_buffer\u001b[0m\u001b[1;33m,\u001b[0m \u001b[0mkwds\u001b[0m\u001b[1;33m)\u001b[0m\u001b[1;33m\u001b[0m\u001b[1;33m\u001b[0m\u001b[0m\n\u001b[0m\u001b[0;32m    689\u001b[0m \u001b[1;33m\u001b[0m\u001b[0m\n\u001b[0;32m    690\u001b[0m \u001b[1;33m\u001b[0m\u001b[0m\n",
      "\u001b[1;32m~\\anaconda3\\envs\\dhdsblend2021\\lib\\site-packages\\pandas\\io\\parsers.py\u001b[0m in \u001b[0;36m_read\u001b[1;34m(filepath_or_buffer, kwds)\u001b[0m\n\u001b[0;32m    452\u001b[0m \u001b[1;33m\u001b[0m\u001b[0m\n\u001b[0;32m    453\u001b[0m     \u001b[1;31m# Create the parser.\u001b[0m\u001b[1;33m\u001b[0m\u001b[1;33m\u001b[0m\u001b[1;33m\u001b[0m\u001b[0m\n\u001b[1;32m--> 454\u001b[1;33m     \u001b[0mparser\u001b[0m \u001b[1;33m=\u001b[0m \u001b[0mTextFileReader\u001b[0m\u001b[1;33m(\u001b[0m\u001b[0mfp_or_buf\u001b[0m\u001b[1;33m,\u001b[0m \u001b[1;33m**\u001b[0m\u001b[0mkwds\u001b[0m\u001b[1;33m)\u001b[0m\u001b[1;33m\u001b[0m\u001b[1;33m\u001b[0m\u001b[0m\n\u001b[0m\u001b[0;32m    455\u001b[0m \u001b[1;33m\u001b[0m\u001b[0m\n\u001b[0;32m    456\u001b[0m     \u001b[1;32mif\u001b[0m \u001b[0mchunksize\u001b[0m \u001b[1;32mor\u001b[0m \u001b[0miterator\u001b[0m\u001b[1;33m:\u001b[0m\u001b[1;33m\u001b[0m\u001b[1;33m\u001b[0m\u001b[0m\n",
      "\u001b[1;32m~\\anaconda3\\envs\\dhdsblend2021\\lib\\site-packages\\pandas\\io\\parsers.py\u001b[0m in \u001b[0;36m__init__\u001b[1;34m(self, f, engine, **kwds)\u001b[0m\n\u001b[0;32m    946\u001b[0m             \u001b[0mself\u001b[0m\u001b[1;33m.\u001b[0m\u001b[0moptions\u001b[0m\u001b[1;33m[\u001b[0m\u001b[1;34m\"has_index_names\"\u001b[0m\u001b[1;33m]\u001b[0m \u001b[1;33m=\u001b[0m \u001b[0mkwds\u001b[0m\u001b[1;33m[\u001b[0m\u001b[1;34m\"has_index_names\"\u001b[0m\u001b[1;33m]\u001b[0m\u001b[1;33m\u001b[0m\u001b[1;33m\u001b[0m\u001b[0m\n\u001b[0;32m    947\u001b[0m \u001b[1;33m\u001b[0m\u001b[0m\n\u001b[1;32m--> 948\u001b[1;33m         \u001b[0mself\u001b[0m\u001b[1;33m.\u001b[0m\u001b[0m_make_engine\u001b[0m\u001b[1;33m(\u001b[0m\u001b[0mself\u001b[0m\u001b[1;33m.\u001b[0m\u001b[0mengine\u001b[0m\u001b[1;33m)\u001b[0m\u001b[1;33m\u001b[0m\u001b[1;33m\u001b[0m\u001b[0m\n\u001b[0m\u001b[0;32m    949\u001b[0m \u001b[1;33m\u001b[0m\u001b[0m\n\u001b[0;32m    950\u001b[0m     \u001b[1;32mdef\u001b[0m \u001b[0mclose\u001b[0m\u001b[1;33m(\u001b[0m\u001b[0mself\u001b[0m\u001b[1;33m)\u001b[0m\u001b[1;33m:\u001b[0m\u001b[1;33m\u001b[0m\u001b[1;33m\u001b[0m\u001b[0m\n",
      "\u001b[1;32m~\\anaconda3\\envs\\dhdsblend2021\\lib\\site-packages\\pandas\\io\\parsers.py\u001b[0m in \u001b[0;36m_make_engine\u001b[1;34m(self, engine)\u001b[0m\n\u001b[0;32m   1178\u001b[0m     \u001b[1;32mdef\u001b[0m \u001b[0m_make_engine\u001b[0m\u001b[1;33m(\u001b[0m\u001b[0mself\u001b[0m\u001b[1;33m,\u001b[0m \u001b[0mengine\u001b[0m\u001b[1;33m=\u001b[0m\u001b[1;34m\"c\"\u001b[0m\u001b[1;33m)\u001b[0m\u001b[1;33m:\u001b[0m\u001b[1;33m\u001b[0m\u001b[1;33m\u001b[0m\u001b[0m\n\u001b[0;32m   1179\u001b[0m         \u001b[1;32mif\u001b[0m \u001b[0mengine\u001b[0m \u001b[1;33m==\u001b[0m \u001b[1;34m\"c\"\u001b[0m\u001b[1;33m:\u001b[0m\u001b[1;33m\u001b[0m\u001b[1;33m\u001b[0m\u001b[0m\n\u001b[1;32m-> 1180\u001b[1;33m             \u001b[0mself\u001b[0m\u001b[1;33m.\u001b[0m\u001b[0m_engine\u001b[0m \u001b[1;33m=\u001b[0m \u001b[0mCParserWrapper\u001b[0m\u001b[1;33m(\u001b[0m\u001b[0mself\u001b[0m\u001b[1;33m.\u001b[0m\u001b[0mf\u001b[0m\u001b[1;33m,\u001b[0m \u001b[1;33m**\u001b[0m\u001b[0mself\u001b[0m\u001b[1;33m.\u001b[0m\u001b[0moptions\u001b[0m\u001b[1;33m)\u001b[0m\u001b[1;33m\u001b[0m\u001b[1;33m\u001b[0m\u001b[0m\n\u001b[0m\u001b[0;32m   1181\u001b[0m         \u001b[1;32melse\u001b[0m\u001b[1;33m:\u001b[0m\u001b[1;33m\u001b[0m\u001b[1;33m\u001b[0m\u001b[0m\n\u001b[0;32m   1182\u001b[0m             \u001b[1;32mif\u001b[0m \u001b[0mengine\u001b[0m \u001b[1;33m==\u001b[0m \u001b[1;34m\"python\"\u001b[0m\u001b[1;33m:\u001b[0m\u001b[1;33m\u001b[0m\u001b[1;33m\u001b[0m\u001b[0m\n",
      "\u001b[1;32m~\\anaconda3\\envs\\dhdsblend2021\\lib\\site-packages\\pandas\\io\\parsers.py\u001b[0m in \u001b[0;36m__init__\u001b[1;34m(self, src, **kwds)\u001b[0m\n\u001b[0;32m   2008\u001b[0m         \u001b[0mkwds\u001b[0m\u001b[1;33m[\u001b[0m\u001b[1;34m\"usecols\"\u001b[0m\u001b[1;33m]\u001b[0m \u001b[1;33m=\u001b[0m \u001b[0mself\u001b[0m\u001b[1;33m.\u001b[0m\u001b[0musecols\u001b[0m\u001b[1;33m\u001b[0m\u001b[1;33m\u001b[0m\u001b[0m\n\u001b[0;32m   2009\u001b[0m \u001b[1;33m\u001b[0m\u001b[0m\n\u001b[1;32m-> 2010\u001b[1;33m         \u001b[0mself\u001b[0m\u001b[1;33m.\u001b[0m\u001b[0m_reader\u001b[0m \u001b[1;33m=\u001b[0m \u001b[0mparsers\u001b[0m\u001b[1;33m.\u001b[0m\u001b[0mTextReader\u001b[0m\u001b[1;33m(\u001b[0m\u001b[0msrc\u001b[0m\u001b[1;33m,\u001b[0m \u001b[1;33m**\u001b[0m\u001b[0mkwds\u001b[0m\u001b[1;33m)\u001b[0m\u001b[1;33m\u001b[0m\u001b[1;33m\u001b[0m\u001b[0m\n\u001b[0m\u001b[0;32m   2011\u001b[0m         \u001b[0mself\u001b[0m\u001b[1;33m.\u001b[0m\u001b[0munnamed_cols\u001b[0m \u001b[1;33m=\u001b[0m \u001b[0mself\u001b[0m\u001b[1;33m.\u001b[0m\u001b[0m_reader\u001b[0m\u001b[1;33m.\u001b[0m\u001b[0munnamed_cols\u001b[0m\u001b[1;33m\u001b[0m\u001b[1;33m\u001b[0m\u001b[0m\n\u001b[0;32m   2012\u001b[0m \u001b[1;33m\u001b[0m\u001b[0m\n",
      "\u001b[1;32mpandas\\_libs\\parsers.pyx\u001b[0m in \u001b[0;36mpandas._libs.parsers.TextReader.__cinit__\u001b[1;34m()\u001b[0m\n",
      "\u001b[1;32mpandas\\_libs\\parsers.pyx\u001b[0m in \u001b[0;36mpandas._libs.parsers.TextReader._get_header\u001b[1;34m()\u001b[0m\n",
      "\u001b[1;32mpandas\\_libs\\parsers.pyx\u001b[0m in \u001b[0;36mpandas._libs.parsers.TextReader._tokenize_rows\u001b[1;34m()\u001b[0m\n",
      "\u001b[1;32mpandas\\_libs\\parsers.pyx\u001b[0m in \u001b[0;36mpandas._libs.parsers.raise_parser_error\u001b[1;34m()\u001b[0m\n",
      "\u001b[1;31mUnicodeDecodeError\u001b[0m: 'utf-8' codec can't decode byte 0xe3 in position 14: invalid continuation byte"
     ]
    }
   ],
   "source": [
    "#Importaremos el dataset original de Kaggle, creando un Dataframe.\n",
    "\n",
    "data_location = \"Data/creditcard.csv\"\n",
    "\n",
    "df = pd.read_csv(data_location, sep=\",\", encoding=\"UTF-8\")"
   ]
  },
  {
   "cell_type": "markdown",
   "id": "10ec2ad0",
   "metadata": {},
   "source": [
    "---\n",
    "<a id=\"exploracion\"></a> \n",
    "### 5.2.2. Exploración del dataset.\n",
    "\n",
    "Exploramos el data set, obteniendo un primer acercamiento de sus métricas:"
   ]
  },
  {
   "cell_type": "code",
   "execution_count": 55,
   "id": "45bf5b6d",
   "metadata": {},
   "outputs": [
    {
     "name": "stdout",
     "output_type": "stream",
     "text": [
      "El dataset contiene 284807 filas o registros y 31 columnas o features.\n"
     ]
    }
   ],
   "source": [
    "print('El dataset contiene {} filas o registros y {} columnas o features.'.format(df.shape[0], df.shape[1]))"
   ]
  },
  {
   "cell_type": "markdown",
   "id": "8cb38a4e",
   "metadata": {},
   "source": [
    "Es decir que contamos con un total de 284.807 transacciones. A continuación, mostramos los 5 primeros registros del dataset:"
   ]
  },
  {
   "cell_type": "code",
   "execution_count": 56,
   "id": "d2d655bf",
   "metadata": {},
   "outputs": [
    {
     "data": {
      "text/html": [
       "<div>\n",
       "<style scoped>\n",
       "    .dataframe tbody tr th:only-of-type {\n",
       "        vertical-align: middle;\n",
       "    }\n",
       "\n",
       "    .dataframe tbody tr th {\n",
       "        vertical-align: top;\n",
       "    }\n",
       "\n",
       "    .dataframe thead th {\n",
       "        text-align: right;\n",
       "    }\n",
       "</style>\n",
       "<table border=\"1\" class=\"dataframe\">\n",
       "  <thead>\n",
       "    <tr style=\"text-align: right;\">\n",
       "      <th></th>\n",
       "      <th>Time</th>\n",
       "      <th>V1</th>\n",
       "      <th>V2</th>\n",
       "      <th>V3</th>\n",
       "      <th>V4</th>\n",
       "      <th>V5</th>\n",
       "      <th>V6</th>\n",
       "      <th>V7</th>\n",
       "      <th>V8</th>\n",
       "      <th>V9</th>\n",
       "      <th>...</th>\n",
       "      <th>V21</th>\n",
       "      <th>V22</th>\n",
       "      <th>V23</th>\n",
       "      <th>V24</th>\n",
       "      <th>V25</th>\n",
       "      <th>V26</th>\n",
       "      <th>V27</th>\n",
       "      <th>V28</th>\n",
       "      <th>Amount</th>\n",
       "      <th>Class</th>\n",
       "    </tr>\n",
       "  </thead>\n",
       "  <tbody>\n",
       "    <tr>\n",
       "      <th>0</th>\n",
       "      <td>0.00</td>\n",
       "      <td>-1.36</td>\n",
       "      <td>-0.07</td>\n",
       "      <td>2.54</td>\n",
       "      <td>1.38</td>\n",
       "      <td>-0.34</td>\n",
       "      <td>0.46</td>\n",
       "      <td>0.24</td>\n",
       "      <td>0.10</td>\n",
       "      <td>0.36</td>\n",
       "      <td>...</td>\n",
       "      <td>-0.02</td>\n",
       "      <td>0.28</td>\n",
       "      <td>-0.11</td>\n",
       "      <td>0.07</td>\n",
       "      <td>0.13</td>\n",
       "      <td>-0.19</td>\n",
       "      <td>0.13</td>\n",
       "      <td>-0.02</td>\n",
       "      <td>149.62</td>\n",
       "      <td>0</td>\n",
       "    </tr>\n",
       "    <tr>\n",
       "      <th>1</th>\n",
       "      <td>0.00</td>\n",
       "      <td>1.19</td>\n",
       "      <td>0.27</td>\n",
       "      <td>0.17</td>\n",
       "      <td>0.45</td>\n",
       "      <td>0.06</td>\n",
       "      <td>-0.08</td>\n",
       "      <td>-0.08</td>\n",
       "      <td>0.09</td>\n",
       "      <td>-0.26</td>\n",
       "      <td>...</td>\n",
       "      <td>-0.23</td>\n",
       "      <td>-0.64</td>\n",
       "      <td>0.10</td>\n",
       "      <td>-0.34</td>\n",
       "      <td>0.17</td>\n",
       "      <td>0.13</td>\n",
       "      <td>-0.01</td>\n",
       "      <td>0.01</td>\n",
       "      <td>2.69</td>\n",
       "      <td>0</td>\n",
       "    </tr>\n",
       "    <tr>\n",
       "      <th>2</th>\n",
       "      <td>1.00</td>\n",
       "      <td>-1.36</td>\n",
       "      <td>-1.34</td>\n",
       "      <td>1.77</td>\n",
       "      <td>0.38</td>\n",
       "      <td>-0.50</td>\n",
       "      <td>1.80</td>\n",
       "      <td>0.79</td>\n",
       "      <td>0.25</td>\n",
       "      <td>-1.51</td>\n",
       "      <td>...</td>\n",
       "      <td>0.25</td>\n",
       "      <td>0.77</td>\n",
       "      <td>0.91</td>\n",
       "      <td>-0.69</td>\n",
       "      <td>-0.33</td>\n",
       "      <td>-0.14</td>\n",
       "      <td>-0.06</td>\n",
       "      <td>-0.06</td>\n",
       "      <td>378.66</td>\n",
       "      <td>0</td>\n",
       "    </tr>\n",
       "    <tr>\n",
       "      <th>3</th>\n",
       "      <td>1.00</td>\n",
       "      <td>-0.97</td>\n",
       "      <td>-0.19</td>\n",
       "      <td>1.79</td>\n",
       "      <td>-0.86</td>\n",
       "      <td>-0.01</td>\n",
       "      <td>1.25</td>\n",
       "      <td>0.24</td>\n",
       "      <td>0.38</td>\n",
       "      <td>-1.39</td>\n",
       "      <td>...</td>\n",
       "      <td>-0.11</td>\n",
       "      <td>0.01</td>\n",
       "      <td>-0.19</td>\n",
       "      <td>-1.18</td>\n",
       "      <td>0.65</td>\n",
       "      <td>-0.22</td>\n",
       "      <td>0.06</td>\n",
       "      <td>0.06</td>\n",
       "      <td>123.50</td>\n",
       "      <td>0</td>\n",
       "    </tr>\n",
       "    <tr>\n",
       "      <th>4</th>\n",
       "      <td>2.00</td>\n",
       "      <td>-1.16</td>\n",
       "      <td>0.88</td>\n",
       "      <td>1.55</td>\n",
       "      <td>0.40</td>\n",
       "      <td>-0.41</td>\n",
       "      <td>0.10</td>\n",
       "      <td>0.59</td>\n",
       "      <td>-0.27</td>\n",
       "      <td>0.82</td>\n",
       "      <td>...</td>\n",
       "      <td>-0.01</td>\n",
       "      <td>0.80</td>\n",
       "      <td>-0.14</td>\n",
       "      <td>0.14</td>\n",
       "      <td>-0.21</td>\n",
       "      <td>0.50</td>\n",
       "      <td>0.22</td>\n",
       "      <td>0.22</td>\n",
       "      <td>69.99</td>\n",
       "      <td>0</td>\n",
       "    </tr>\n",
       "  </tbody>\n",
       "</table>\n",
       "<p>5 rows × 31 columns</p>\n",
       "</div>"
      ],
      "text/plain": [
       "   Time    V1    V2   V3    V4    V5    V6    V7    V8    V9  ...   V21   V22  \\\n",
       "0  0.00 -1.36 -0.07 2.54  1.38 -0.34  0.46  0.24  0.10  0.36  ... -0.02  0.28   \n",
       "1  0.00  1.19  0.27 0.17  0.45  0.06 -0.08 -0.08  0.09 -0.26  ... -0.23 -0.64   \n",
       "2  1.00 -1.36 -1.34 1.77  0.38 -0.50  1.80  0.79  0.25 -1.51  ...  0.25  0.77   \n",
       "3  1.00 -0.97 -0.19 1.79 -0.86 -0.01  1.25  0.24  0.38 -1.39  ... -0.11  0.01   \n",
       "4  2.00 -1.16  0.88 1.55  0.40 -0.41  0.10  0.59 -0.27  0.82  ... -0.01  0.80   \n",
       "\n",
       "    V23   V24   V25   V26   V27   V28  Amount  Class  \n",
       "0 -0.11  0.07  0.13 -0.19  0.13 -0.02  149.62      0  \n",
       "1  0.10 -0.34  0.17  0.13 -0.01  0.01    2.69      0  \n",
       "2  0.91 -0.69 -0.33 -0.14 -0.06 -0.06  378.66      0  \n",
       "3 -0.19 -1.18  0.65 -0.22  0.06  0.06  123.50      0  \n",
       "4 -0.14  0.14 -0.21  0.50  0.22  0.22   69.99      0  \n",
       "\n",
       "[5 rows x 31 columns]"
      ]
     },
     "execution_count": 56,
     "metadata": {},
     "output_type": "execute_result"
    }
   ],
   "source": [
    "df.head(5)"
   ]
  },
  {
   "cell_type": "markdown",
   "id": "31566cbe",
   "metadata": {},
   "source": [
    "Presentamos un resumen conciso de la estructura del dataset, incluyendo el tipo de datos de cada columna, cantidad de valores no nulos -que como veremos, no existen- y el uso de memoria:"
   ]
  },
  {
   "cell_type": "code",
   "execution_count": 57,
   "id": "a7995020",
   "metadata": {},
   "outputs": [
    {
     "name": "stdout",
     "output_type": "stream",
     "text": [
      "<class 'pandas.core.frame.DataFrame'>\n",
      "RangeIndex: 284807 entries, 0 to 284806\n",
      "Data columns (total 31 columns):\n",
      " #   Column  Non-Null Count   Dtype  \n",
      "---  ------  --------------   -----  \n",
      " 0   Time    284807 non-null  float64\n",
      " 1   V1      284807 non-null  float64\n",
      " 2   V2      284807 non-null  float64\n",
      " 3   V3      284807 non-null  float64\n",
      " 4   V4      284807 non-null  float64\n",
      " 5   V5      284807 non-null  float64\n",
      " 6   V6      284807 non-null  float64\n",
      " 7   V7      284807 non-null  float64\n",
      " 8   V8      284807 non-null  float64\n",
      " 9   V9      284807 non-null  float64\n",
      " 10  V10     284807 non-null  float64\n",
      " 11  V11     284807 non-null  float64\n",
      " 12  V12     284807 non-null  float64\n",
      " 13  V13     284807 non-null  float64\n",
      " 14  V14     284807 non-null  float64\n",
      " 15  V15     284807 non-null  float64\n",
      " 16  V16     284807 non-null  float64\n",
      " 17  V17     284807 non-null  float64\n",
      " 18  V18     284807 non-null  float64\n",
      " 19  V19     284807 non-null  float64\n",
      " 20  V20     284807 non-null  float64\n",
      " 21  V21     284807 non-null  float64\n",
      " 22  V22     284807 non-null  float64\n",
      " 23  V23     284807 non-null  float64\n",
      " 24  V24     284807 non-null  float64\n",
      " 25  V25     284807 non-null  float64\n",
      " 26  V26     284807 non-null  float64\n",
      " 27  V27     284807 non-null  float64\n",
      " 28  V28     284807 non-null  float64\n",
      " 29  Amount  284807 non-null  float64\n",
      " 30  Class   284807 non-null  int64  \n",
      "dtypes: float64(30), int64(1)\n",
      "memory usage: 67.4 MB\n"
     ]
    }
   ],
   "source": [
    "df.info()"
   ]
  },
  {
   "cell_type": "markdown",
   "id": "a12ba361",
   "metadata": {},
   "source": [
    "Estas son las columnas que lo componen:"
   ]
  },
  {
   "cell_type": "code",
   "execution_count": 58,
   "id": "a3a7a7de",
   "metadata": {},
   "outputs": [
    {
     "data": {
      "text/plain": [
       "Index(['Time', 'V1', 'V2', 'V3', 'V4', 'V5', 'V6', 'V7', 'V8', 'V9', 'V10',\n",
       "       'V11', 'V12', 'V13', 'V14', 'V15', 'V16', 'V17', 'V18', 'V19', 'V20',\n",
       "       'V21', 'V22', 'V23', 'V24', 'V25', 'V26', 'V27', 'V28', 'Amount',\n",
       "       'Class'],\n",
       "      dtype='object')"
      ]
     },
     "execution_count": 58,
     "metadata": {},
     "output_type": "execute_result"
    }
   ],
   "source": [
    "df.columns"
   ]
  },
  {
   "cell_type": "markdown",
   "id": "2df9c927",
   "metadata": {},
   "source": [
    "El dataset presenta 28 columnas anónimas, etiquetadas de V1 a V28. Las tres características restantes son el tiempo ('time') y el monto de la transacción ('Amount'), así como si esa transacción fue fraudulenta o no ('Class'), a través de una variable binaria o dummy, correspondiendo el 0 con una “transacción Normal” y el 1 a “Hubo Fraude”."
   ]
  },
  {
   "cell_type": "markdown",
   "id": "1c258d92",
   "metadata": {},
   "source": [
    "---\n",
    "<a id=\"analisis_exploratorio\"></a> \n",
    "### 5.2.3. Análisis de datos exploratorio.\n",
    "[Ir a índice](#indice)\n",
    "\n",
    "Vamos a centrarnos en las variables que no son anónimas: tiempo, cantidad y clase."
   ]
  },
  {
   "cell_type": "markdown",
   "id": "cc2529e8",
   "metadata": {},
   "source": [
    "Generamos estadísticas descriptivas de éstas, como aquellas que resumen la tendencia central, la dispersión y la forma de la distribución de un conjunto de datos, excluyendo valores nulos."
   ]
  },
  {
   "cell_type": "code",
   "execution_count": 59,
   "id": "b72abf0e",
   "metadata": {},
   "outputs": [
    {
     "data": {
      "text/html": [
       "<div>\n",
       "<style scoped>\n",
       "    .dataframe tbody tr th:only-of-type {\n",
       "        vertical-align: middle;\n",
       "    }\n",
       "\n",
       "    .dataframe tbody tr th {\n",
       "        vertical-align: top;\n",
       "    }\n",
       "\n",
       "    .dataframe thead th {\n",
       "        text-align: right;\n",
       "    }\n",
       "</style>\n",
       "<table border=\"1\" class=\"dataframe\">\n",
       "  <thead>\n",
       "    <tr style=\"text-align: right;\">\n",
       "      <th></th>\n",
       "      <th>Time</th>\n",
       "      <th>Amount</th>\n",
       "    </tr>\n",
       "  </thead>\n",
       "  <tbody>\n",
       "    <tr>\n",
       "      <th>count</th>\n",
       "      <td>284,807.00</td>\n",
       "      <td>284,807.00</td>\n",
       "    </tr>\n",
       "    <tr>\n",
       "      <th>mean</th>\n",
       "      <td>94,813.86</td>\n",
       "      <td>88.35</td>\n",
       "    </tr>\n",
       "    <tr>\n",
       "      <th>std</th>\n",
       "      <td>47,488.15</td>\n",
       "      <td>250.12</td>\n",
       "    </tr>\n",
       "    <tr>\n",
       "      <th>min</th>\n",
       "      <td>0.00</td>\n",
       "      <td>0.00</td>\n",
       "    </tr>\n",
       "    <tr>\n",
       "      <th>25%</th>\n",
       "      <td>54,201.50</td>\n",
       "      <td>5.60</td>\n",
       "    </tr>\n",
       "    <tr>\n",
       "      <th>50%</th>\n",
       "      <td>84,692.00</td>\n",
       "      <td>22.00</td>\n",
       "    </tr>\n",
       "    <tr>\n",
       "      <th>75%</th>\n",
       "      <td>139,320.50</td>\n",
       "      <td>77.16</td>\n",
       "    </tr>\n",
       "    <tr>\n",
       "      <th>max</th>\n",
       "      <td>172,792.00</td>\n",
       "      <td>25,691.16</td>\n",
       "    </tr>\n",
       "  </tbody>\n",
       "</table>\n",
       "</div>"
      ],
      "text/plain": [
       "            Time     Amount\n",
       "count 284,807.00 284,807.00\n",
       "mean   94,813.86      88.35\n",
       "std    47,488.15     250.12\n",
       "min         0.00       0.00\n",
       "25%    54,201.50       5.60\n",
       "50%    84,692.00      22.00\n",
       "75%   139,320.50      77.16\n",
       "max   172,792.00  25,691.16"
      ]
     },
     "execution_count": 59,
     "metadata": {},
     "output_type": "execute_result"
    }
   ],
   "source": [
    "df[['Time','Amount']].describe()"
   ]
  },
  {
   "cell_type": "markdown",
   "id": "608a3485",
   "metadata": {},
   "source": [
    "El valor medio de las transacciones es $$ 88.35, siendo que la la mayor transacción asciende a $ 25.691,16. En función de ello, podríamos inferir que la gran mayoría de las transacciones consideradas son de montos bajos."
   ]
  },
  {
   "cell_type": "markdown",
   "id": "2baa5a8d",
   "metadata": {},
   "source": [
    "Respecto de la columna \"Class\", como ya hemos mencionado, la misma es una variable dummy, en la cual el valor '1' representa casos detectados como fraudulentos y el '0' aquellos que no lo son. Nuevamente, los casos positivos son una mínima parte (492) en relación al total de casos considerados (284.807). Lo que significa que nuestro set de datos está muy desequilibrado y tendremos muy pocas muestras etiquetadas como \"fraude\"."
   ]
  },
  {
   "cell_type": "code",
   "execution_count": 60,
   "id": "e828e75a",
   "metadata": {},
   "outputs": [
    {
     "name": "stdout",
     "output_type": "stream",
     "text": [
      "0    284315\n",
      "1       492\n",
      "Name: Class, dtype: int64\n"
     ]
    }
   ],
   "source": [
    "tipo_transacciones = df.Class.value_counts()\n",
    "print(tipo_transacciones)"
   ]
  },
  {
   "cell_type": "code",
   "execution_count": 61,
   "id": "6a89f2e4",
   "metadata": {},
   "outputs": [
    {
     "name": "stdout",
     "output_type": "stream",
     "text": [
      "Hubo un total de 284315 transacciones no fraudulentas (99.827%) y 492 transacciones fraudulentas (0.173%).\n"
     ]
    }
   ],
   "source": [
    "#Calculamos total de casos de cada clase y su porcentaje respecto del total de muestras.\n",
    "no_fraudulentas = tipo_transacciones[0]\n",
    "fraudulentas = tipo_transacciones[1]\n",
    "total = no_fraudulentas + fraudulentas\n",
    "porc_no_fraudulentas = (no_fraudulentas/(total))*100\n",
    "porc_fraudulentas = (fraudulentas/(total))*100\n",
    "print('Hubo un total de {} transacciones no fraudulentas ({:.3f}%) y {} transacciones fraudulentas ({:.3f}%).'.format(no_fraudulentas, porc_no_fraudulentas, fraudulentas, porc_fraudulentas))"
   ]
  },
  {
   "cell_type": "code",
   "execution_count": 62,
   "id": "9104609b",
   "metadata": {},
   "outputs": [
    {
     "data": {
      "text/plain": [
       "Text(0, 0.5, 'Número de observaciones')"
      ]
     },
     "execution_count": 62,
     "metadata": {},
     "output_type": "execute_result"
    },
    {
     "data": {
      "image/png": "[encoded data removed]",
      "text/plain": [
       "<Figure size 432x288 with 1 Axes>"
      ]
     },
     "metadata": {
      "needs_background": "light"
     },
     "output_type": "display_data"
    }
   ],
   "source": [
    "#Graficamos los resultados obtenidos en la celda anterior.\n",
    "LABELS = [\"Normal\",\"Fraude\"]\n",
    "count_classes = df.value_counts(df['Class'], sort = True)\n",
    "count_classes.plot(kind = 'bar', rot=0)\n",
    "plt.xticks(range(2), LABELS)\n",
    "plt.title(\"Transacciones fraudulentas vs. no fraudulentas\")\n",
    "plt.xlabel(\"Tipo de transacción\")\n",
    "plt.ylabel(\"Número de observaciones\")"
   ]
  },
  {
   "cell_type": "markdown",
   "id": "7034cf76",
   "metadata": {},
   "source": [
    "---\n",
    "<a id=\"visualizacion_time_amount\"></a> \n",
    "#### 5.2.3.1. Visualizaciones de las variables Time & Amount.\n",
    "[Ir a índice](#indice)\n"
   ]
  },
  {
   "cell_type": "code",
   "execution_count": 63,
   "id": "52c65a5f",
   "metadata": {},
   "outputs": [
    {
     "name": "stderr",
     "output_type": "stream",
     "text": [
      "C:\\Users\\Lu\\anaconda3\\envs\\dhdsblend2021\\lib\\site-packages\\seaborn\\distributions.py:2551: FutureWarning: `distplot` is a deprecated function and will be removed in a future version. Please adapt your code to use either `displot` (a figure-level function with similar flexibility) or `histplot` (an axes-level function for histograms).\n",
      "  warnings.warn(msg, FutureWarning)\n"
     ]
    },
    {
     "data": {
      "text/plain": [
       "<AxesSubplot:title={'center':'Distribución del Tiempo de las transacciones'}, xlabel='Time', ylabel='Density'>"
      ]
     },
     "execution_count": 63,
     "metadata": {},
     "output_type": "execute_result"
    },
    {
     "data": {
      "image/png": "[encoded data removed]",
      "text/plain": [
       "<Figure size 720x576 with 1 Axes>"
      ]
     },
     "metadata": {
      "needs_background": "light"
     },
     "output_type": "display_data"
    }
   ],
   "source": [
    "#Visualización del tiempo\n",
    "plt.figure(figsize=(10,8))\n",
    "plt.title('Distribución del Tiempo de las transacciones')\n",
    "sns.distplot(df.Time)"
   ]
  },
  {
   "cell_type": "markdown",
   "id": "00771cf5",
   "metadata": {},
   "source": [
    "El conjunto de datos incluye todas las transacciones registradas en el transcurso de dos días, en términos de segundos. La distribución es bimodal. Por lo que vemos, poco después del primer día, hubo una caída significativa en el volumen de transacciones. Si bien no se proporciona la hora de la primera transacción, sería razonable suponer que la caída en el volumen ocurrió durante la noche."
   ]
  },
  {
   "cell_type": "code",
   "execution_count": 64,
   "id": "24c183e0",
   "metadata": {},
   "outputs": [
    {
     "name": "stderr",
     "output_type": "stream",
     "text": [
      "C:\\Users\\Lu\\anaconda3\\envs\\dhdsblend2021\\lib\\site-packages\\seaborn\\distributions.py:2551: FutureWarning: `distplot` is a deprecated function and will be removed in a future version. Please adapt your code to use either `displot` (a figure-level function with similar flexibility) or `histplot` (an axes-level function for histograms).\n",
      "  warnings.warn(msg, FutureWarning)\n"
     ]
    },
    {
     "data": {
      "text/plain": [
       "<AxesSubplot:title={'center':'Distribución del valor monetario de las transacciones'}, xlabel='Amount', ylabel='Density'>"
      ]
     },
     "execution_count": 64,
     "metadata": {},
     "output_type": "execute_result"
    },
    {
     "data": {
      "image/png": "[encoded data removed]",
      "text/plain": [
       "<Figure size 720x576 with 1 Axes>"
      ]
     },
     "metadata": {
      "needs_background": "light"
     },
     "output_type": "display_data"
    }
   ],
   "source": [
    "plt.figure(figsize=(10,8))\n",
    "plt.title('Distribución del valor monetario de las transacciones')\n",
    "sns.distplot(df.Amount)"
   ]
  },
  {
   "cell_type": "markdown",
   "id": "514334a7",
   "metadata": {},
   "source": [
    "---\n",
    "<a id=\"correlacion\"></a> \n",
    "#### 5.2.3.2. Correlación entra las variables.\n",
    "[Ir a índice](#indice)"
   ]
  },
  {
   "cell_type": "markdown",
   "id": "44794f5a",
   "metadata": {},
   "source": [
    "A continuación, vamos a verificar si existe correlación significativa entre nuestros predictores y graficarlo con un heatmap."
   ]
  },
  {
   "cell_type": "code",
   "execution_count": 65,
   "id": "46017e52",
   "metadata": {},
   "outputs": [
    {
     "data": {
      "text/html": [
       "<div>\n",
       "<style scoped>\n",
       "    .dataframe tbody tr th:only-of-type {\n",
       "        vertical-align: middle;\n",
       "    }\n",
       "\n",
       "    .dataframe tbody tr th {\n",
       "        vertical-align: top;\n",
       "    }\n",
       "\n",
       "    .dataframe thead th {\n",
       "        text-align: right;\n",
       "    }\n",
       "</style>\n",
       "<table border=\"1\" class=\"dataframe\">\n",
       "  <thead>\n",
       "    <tr style=\"text-align: right;\">\n",
       "      <th></th>\n",
       "      <th>Time</th>\n",
       "      <th>V1</th>\n",
       "      <th>V2</th>\n",
       "      <th>V3</th>\n",
       "      <th>V4</th>\n",
       "      <th>V5</th>\n",
       "      <th>V6</th>\n",
       "      <th>V7</th>\n",
       "      <th>V8</th>\n",
       "      <th>V9</th>\n",
       "      <th>...</th>\n",
       "      <th>V21</th>\n",
       "      <th>V22</th>\n",
       "      <th>V23</th>\n",
       "      <th>V24</th>\n",
       "      <th>V25</th>\n",
       "      <th>V26</th>\n",
       "      <th>V27</th>\n",
       "      <th>V28</th>\n",
       "      <th>Amount</th>\n",
       "      <th>Class</th>\n",
       "    </tr>\n",
       "  </thead>\n",
       "  <tbody>\n",
       "    <tr>\n",
       "      <th>Time</th>\n",
       "      <td>1.00</td>\n",
       "      <td>0.12</td>\n",
       "      <td>-0.01</td>\n",
       "      <td>-0.42</td>\n",
       "      <td>-0.11</td>\n",
       "      <td>0.17</td>\n",
       "      <td>-0.06</td>\n",
       "      <td>0.08</td>\n",
       "      <td>-0.04</td>\n",
       "      <td>-0.01</td>\n",
       "      <td>...</td>\n",
       "      <td>0.04</td>\n",
       "      <td>0.14</td>\n",
       "      <td>0.05</td>\n",
       "      <td>-0.02</td>\n",
       "      <td>-0.23</td>\n",
       "      <td>-0.04</td>\n",
       "      <td>-0.01</td>\n",
       "      <td>-0.01</td>\n",
       "      <td>-0.01</td>\n",
       "      <td>-0.01</td>\n",
       "    </tr>\n",
       "    <tr>\n",
       "      <th>V1</th>\n",
       "      <td>0.12</td>\n",
       "      <td>1.00</td>\n",
       "      <td>0.00</td>\n",
       "      <td>-0.00</td>\n",
       "      <td>0.00</td>\n",
       "      <td>0.00</td>\n",
       "      <td>0.00</td>\n",
       "      <td>0.00</td>\n",
       "      <td>-0.00</td>\n",
       "      <td>0.00</td>\n",
       "      <td>...</td>\n",
       "      <td>-0.00</td>\n",
       "      <td>0.00</td>\n",
       "      <td>0.00</td>\n",
       "      <td>0.00</td>\n",
       "      <td>-0.00</td>\n",
       "      <td>-0.00</td>\n",
       "      <td>0.00</td>\n",
       "      <td>0.00</td>\n",
       "      <td>-0.23</td>\n",
       "      <td>-0.10</td>\n",
       "    </tr>\n",
       "    <tr>\n",
       "      <th>V2</th>\n",
       "      <td>-0.01</td>\n",
       "      <td>0.00</td>\n",
       "      <td>1.00</td>\n",
       "      <td>0.00</td>\n",
       "      <td>-0.00</td>\n",
       "      <td>-0.00</td>\n",
       "      <td>0.00</td>\n",
       "      <td>0.00</td>\n",
       "      <td>-0.00</td>\n",
       "      <td>-0.00</td>\n",
       "      <td>...</td>\n",
       "      <td>0.00</td>\n",
       "      <td>0.00</td>\n",
       "      <td>0.00</td>\n",
       "      <td>-0.00</td>\n",
       "      <td>-0.00</td>\n",
       "      <td>0.00</td>\n",
       "      <td>-0.00</td>\n",
       "      <td>-0.00</td>\n",
       "      <td>-0.53</td>\n",
       "      <td>0.09</td>\n",
       "    </tr>\n",
       "    <tr>\n",
       "      <th>V3</th>\n",
       "      <td>-0.42</td>\n",
       "      <td>-0.00</td>\n",
       "      <td>0.00</td>\n",
       "      <td>1.00</td>\n",
       "      <td>-0.00</td>\n",
       "      <td>-0.00</td>\n",
       "      <td>0.00</td>\n",
       "      <td>0.00</td>\n",
       "      <td>0.00</td>\n",
       "      <td>-0.00</td>\n",
       "      <td>...</td>\n",
       "      <td>-0.00</td>\n",
       "      <td>0.00</td>\n",
       "      <td>0.00</td>\n",
       "      <td>-0.00</td>\n",
       "      <td>0.00</td>\n",
       "      <td>0.00</td>\n",
       "      <td>0.00</td>\n",
       "      <td>0.00</td>\n",
       "      <td>-0.21</td>\n",
       "      <td>-0.19</td>\n",
       "    </tr>\n",
       "    <tr>\n",
       "      <th>V4</th>\n",
       "      <td>-0.11</td>\n",
       "      <td>0.00</td>\n",
       "      <td>-0.00</td>\n",
       "      <td>-0.00</td>\n",
       "      <td>1.00</td>\n",
       "      <td>-0.00</td>\n",
       "      <td>-0.00</td>\n",
       "      <td>0.00</td>\n",
       "      <td>0.00</td>\n",
       "      <td>0.00</td>\n",
       "      <td>...</td>\n",
       "      <td>-0.00</td>\n",
       "      <td>0.00</td>\n",
       "      <td>0.00</td>\n",
       "      <td>0.00</td>\n",
       "      <td>0.00</td>\n",
       "      <td>-0.00</td>\n",
       "      <td>-0.00</td>\n",
       "      <td>-0.00</td>\n",
       "      <td>0.10</td>\n",
       "      <td>0.13</td>\n",
       "    </tr>\n",
       "    <tr>\n",
       "      <th>V5</th>\n",
       "      <td>0.17</td>\n",
       "      <td>0.00</td>\n",
       "      <td>-0.00</td>\n",
       "      <td>-0.00</td>\n",
       "      <td>-0.00</td>\n",
       "      <td>1.00</td>\n",
       "      <td>0.00</td>\n",
       "      <td>-0.00</td>\n",
       "      <td>0.00</td>\n",
       "      <td>0.00</td>\n",
       "      <td>...</td>\n",
       "      <td>-0.00</td>\n",
       "      <td>0.00</td>\n",
       "      <td>0.00</td>\n",
       "      <td>-0.00</td>\n",
       "      <td>0.00</td>\n",
       "      <td>0.00</td>\n",
       "      <td>0.00</td>\n",
       "      <td>-0.00</td>\n",
       "      <td>-0.39</td>\n",
       "      <td>-0.09</td>\n",
       "    </tr>\n",
       "    <tr>\n",
       "      <th>V6</th>\n",
       "      <td>-0.06</td>\n",
       "      <td>0.00</td>\n",
       "      <td>0.00</td>\n",
       "      <td>0.00</td>\n",
       "      <td>-0.00</td>\n",
       "      <td>0.00</td>\n",
       "      <td>1.00</td>\n",
       "      <td>0.00</td>\n",
       "      <td>-0.00</td>\n",
       "      <td>0.00</td>\n",
       "      <td>...</td>\n",
       "      <td>-0.00</td>\n",
       "      <td>-0.00</td>\n",
       "      <td>-0.00</td>\n",
       "      <td>-0.00</td>\n",
       "      <td>0.00</td>\n",
       "      <td>-0.00</td>\n",
       "      <td>-0.00</td>\n",
       "      <td>0.00</td>\n",
       "      <td>0.22</td>\n",
       "      <td>-0.04</td>\n",
       "    </tr>\n",
       "    <tr>\n",
       "      <th>V7</th>\n",
       "      <td>0.08</td>\n",
       "      <td>0.00</td>\n",
       "      <td>0.00</td>\n",
       "      <td>0.00</td>\n",
       "      <td>0.00</td>\n",
       "      <td>-0.00</td>\n",
       "      <td>0.00</td>\n",
       "      <td>1.00</td>\n",
       "      <td>-0.00</td>\n",
       "      <td>0.00</td>\n",
       "      <td>...</td>\n",
       "      <td>0.00</td>\n",
       "      <td>-0.00</td>\n",
       "      <td>0.00</td>\n",
       "      <td>-0.00</td>\n",
       "      <td>0.00</td>\n",
       "      <td>-0.00</td>\n",
       "      <td>-0.00</td>\n",
       "      <td>-0.00</td>\n",
       "      <td>0.40</td>\n",
       "      <td>-0.19</td>\n",
       "    </tr>\n",
       "    <tr>\n",
       "      <th>V8</th>\n",
       "      <td>-0.04</td>\n",
       "      <td>-0.00</td>\n",
       "      <td>-0.00</td>\n",
       "      <td>0.00</td>\n",
       "      <td>0.00</td>\n",
       "      <td>0.00</td>\n",
       "      <td>-0.00</td>\n",
       "      <td>-0.00</td>\n",
       "      <td>1.00</td>\n",
       "      <td>0.00</td>\n",
       "      <td>...</td>\n",
       "      <td>-0.00</td>\n",
       "      <td>0.00</td>\n",
       "      <td>0.00</td>\n",
       "      <td>-0.00</td>\n",
       "      <td>-0.00</td>\n",
       "      <td>-0.00</td>\n",
       "      <td>0.00</td>\n",
       "      <td>-0.00</td>\n",
       "      <td>-0.10</td>\n",
       "      <td>0.02</td>\n",
       "    </tr>\n",
       "    <tr>\n",
       "      <th>V9</th>\n",
       "      <td>-0.01</td>\n",
       "      <td>0.00</td>\n",
       "      <td>-0.00</td>\n",
       "      <td>-0.00</td>\n",
       "      <td>0.00</td>\n",
       "      <td>0.00</td>\n",
       "      <td>0.00</td>\n",
       "      <td>0.00</td>\n",
       "      <td>0.00</td>\n",
       "      <td>1.00</td>\n",
       "      <td>...</td>\n",
       "      <td>0.00</td>\n",
       "      <td>0.00</td>\n",
       "      <td>0.00</td>\n",
       "      <td>-0.00</td>\n",
       "      <td>0.00</td>\n",
       "      <td>-0.00</td>\n",
       "      <td>-0.00</td>\n",
       "      <td>0.00</td>\n",
       "      <td>-0.04</td>\n",
       "      <td>-0.10</td>\n",
       "    </tr>\n",
       "    <tr>\n",
       "      <th>V10</th>\n",
       "      <td>0.03</td>\n",
       "      <td>0.00</td>\n",
       "      <td>-0.00</td>\n",
       "      <td>0.00</td>\n",
       "      <td>0.00</td>\n",
       "      <td>-0.00</td>\n",
       "      <td>0.00</td>\n",
       "      <td>0.00</td>\n",
       "      <td>0.00</td>\n",
       "      <td>-0.00</td>\n",
       "      <td>...</td>\n",
       "      <td>0.00</td>\n",
       "      <td>-0.00</td>\n",
       "      <td>0.00</td>\n",
       "      <td>-0.00</td>\n",
       "      <td>-0.00</td>\n",
       "      <td>-0.00</td>\n",
       "      <td>-0.00</td>\n",
       "      <td>-0.00</td>\n",
       "      <td>-0.10</td>\n",
       "      <td>-0.22</td>\n",
       "    </tr>\n",
       "    <tr>\n",
       "      <th>V11</th>\n",
       "      <td>-0.25</td>\n",
       "      <td>0.00</td>\n",
       "      <td>0.00</td>\n",
       "      <td>-0.00</td>\n",
       "      <td>-0.00</td>\n",
       "      <td>0.00</td>\n",
       "      <td>0.00</td>\n",
       "      <td>-0.00</td>\n",
       "      <td>0.00</td>\n",
       "      <td>0.00</td>\n",
       "      <td>...</td>\n",
       "      <td>-0.00</td>\n",
       "      <td>-0.00</td>\n",
       "      <td>0.00</td>\n",
       "      <td>0.00</td>\n",
       "      <td>-0.00</td>\n",
       "      <td>-0.00</td>\n",
       "      <td>-0.00</td>\n",
       "      <td>-0.00</td>\n",
       "      <td>0.00</td>\n",
       "      <td>0.15</td>\n",
       "    </tr>\n",
       "    <tr>\n",
       "      <th>V12</th>\n",
       "      <td>0.12</td>\n",
       "      <td>0.00</td>\n",
       "      <td>-0.00</td>\n",
       "      <td>0.00</td>\n",
       "      <td>-0.00</td>\n",
       "      <td>0.00</td>\n",
       "      <td>0.00</td>\n",
       "      <td>0.00</td>\n",
       "      <td>-0.00</td>\n",
       "      <td>-0.00</td>\n",
       "      <td>...</td>\n",
       "      <td>0.00</td>\n",
       "      <td>-0.00</td>\n",
       "      <td>0.00</td>\n",
       "      <td>0.00</td>\n",
       "      <td>0.00</td>\n",
       "      <td>-0.00</td>\n",
       "      <td>-0.00</td>\n",
       "      <td>0.00</td>\n",
       "      <td>-0.01</td>\n",
       "      <td>-0.26</td>\n",
       "    </tr>\n",
       "    <tr>\n",
       "      <th>V13</th>\n",
       "      <td>-0.07</td>\n",
       "      <td>-0.00</td>\n",
       "      <td>0.00</td>\n",
       "      <td>-0.00</td>\n",
       "      <td>-0.00</td>\n",
       "      <td>-0.00</td>\n",
       "      <td>-0.00</td>\n",
       "      <td>-0.00</td>\n",
       "      <td>-0.00</td>\n",
       "      <td>-0.00</td>\n",
       "      <td>...</td>\n",
       "      <td>0.00</td>\n",
       "      <td>-0.00</td>\n",
       "      <td>-0.00</td>\n",
       "      <td>-0.00</td>\n",
       "      <td>0.00</td>\n",
       "      <td>-0.00</td>\n",
       "      <td>-0.00</td>\n",
       "      <td>0.00</td>\n",
       "      <td>0.01</td>\n",
       "      <td>-0.00</td>\n",
       "    </tr>\n",
       "    <tr>\n",
       "      <th>V14</th>\n",
       "      <td>-0.10</td>\n",
       "      <td>0.00</td>\n",
       "      <td>-0.00</td>\n",
       "      <td>0.00</td>\n",
       "      <td>-0.00</td>\n",
       "      <td>-0.00</td>\n",
       "      <td>0.00</td>\n",
       "      <td>-0.00</td>\n",
       "      <td>-0.00</td>\n",
       "      <td>0.00</td>\n",
       "      <td>...</td>\n",
       "      <td>0.00</td>\n",
       "      <td>0.00</td>\n",
       "      <td>0.00</td>\n",
       "      <td>0.00</td>\n",
       "      <td>-0.00</td>\n",
       "      <td>-0.00</td>\n",
       "      <td>0.00</td>\n",
       "      <td>0.00</td>\n",
       "      <td>0.03</td>\n",
       "      <td>-0.30</td>\n",
       "    </tr>\n",
       "    <tr>\n",
       "      <th>V15</th>\n",
       "      <td>-0.18</td>\n",
       "      <td>-0.00</td>\n",
       "      <td>0.00</td>\n",
       "      <td>0.00</td>\n",
       "      <td>-0.00</td>\n",
       "      <td>-0.00</td>\n",
       "      <td>-0.00</td>\n",
       "      <td>0.00</td>\n",
       "      <td>0.00</td>\n",
       "      <td>-0.00</td>\n",
       "      <td>...</td>\n",
       "      <td>0.00</td>\n",
       "      <td>-0.00</td>\n",
       "      <td>0.00</td>\n",
       "      <td>-0.00</td>\n",
       "      <td>0.00</td>\n",
       "      <td>0.00</td>\n",
       "      <td>-0.00</td>\n",
       "      <td>-0.00</td>\n",
       "      <td>-0.00</td>\n",
       "      <td>-0.00</td>\n",
       "    </tr>\n",
       "    <tr>\n",
       "      <th>V16</th>\n",
       "      <td>0.01</td>\n",
       "      <td>0.00</td>\n",
       "      <td>0.00</td>\n",
       "      <td>0.00</td>\n",
       "      <td>-0.00</td>\n",
       "      <td>-0.00</td>\n",
       "      <td>-0.00</td>\n",
       "      <td>0.00</td>\n",
       "      <td>0.00</td>\n",
       "      <td>-0.00</td>\n",
       "      <td>...</td>\n",
       "      <td>-0.00</td>\n",
       "      <td>0.00</td>\n",
       "      <td>0.00</td>\n",
       "      <td>-0.00</td>\n",
       "      <td>-0.00</td>\n",
       "      <td>-0.00</td>\n",
       "      <td>0.00</td>\n",
       "      <td>0.00</td>\n",
       "      <td>-0.00</td>\n",
       "      <td>-0.20</td>\n",
       "    </tr>\n",
       "    <tr>\n",
       "      <th>V17</th>\n",
       "      <td>-0.07</td>\n",
       "      <td>-0.00</td>\n",
       "      <td>-0.00</td>\n",
       "      <td>0.00</td>\n",
       "      <td>-0.00</td>\n",
       "      <td>0.00</td>\n",
       "      <td>0.00</td>\n",
       "      <td>0.00</td>\n",
       "      <td>-0.00</td>\n",
       "      <td>0.00</td>\n",
       "      <td>...</td>\n",
       "      <td>-0.00</td>\n",
       "      <td>-0.00</td>\n",
       "      <td>0.00</td>\n",
       "      <td>-0.00</td>\n",
       "      <td>0.00</td>\n",
       "      <td>0.00</td>\n",
       "      <td>0.00</td>\n",
       "      <td>-0.00</td>\n",
       "      <td>0.01</td>\n",
       "      <td>-0.33</td>\n",
       "    </tr>\n",
       "    <tr>\n",
       "      <th>V18</th>\n",
       "      <td>0.09</td>\n",
       "      <td>0.00</td>\n",
       "      <td>0.00</td>\n",
       "      <td>0.00</td>\n",
       "      <td>0.00</td>\n",
       "      <td>0.00</td>\n",
       "      <td>0.00</td>\n",
       "      <td>-0.00</td>\n",
       "      <td>-0.00</td>\n",
       "      <td>0.00</td>\n",
       "      <td>...</td>\n",
       "      <td>-0.00</td>\n",
       "      <td>-0.00</td>\n",
       "      <td>-0.00</td>\n",
       "      <td>-0.00</td>\n",
       "      <td>-0.00</td>\n",
       "      <td>0.00</td>\n",
       "      <td>0.00</td>\n",
       "      <td>0.00</td>\n",
       "      <td>0.04</td>\n",
       "      <td>-0.11</td>\n",
       "    </tr>\n",
       "    <tr>\n",
       "      <th>V19</th>\n",
       "      <td>0.03</td>\n",
       "      <td>0.00</td>\n",
       "      <td>0.00</td>\n",
       "      <td>0.00</td>\n",
       "      <td>-0.00</td>\n",
       "      <td>-0.00</td>\n",
       "      <td>0.00</td>\n",
       "      <td>-0.00</td>\n",
       "      <td>-0.00</td>\n",
       "      <td>0.00</td>\n",
       "      <td>...</td>\n",
       "      <td>0.00</td>\n",
       "      <td>-0.00</td>\n",
       "      <td>0.00</td>\n",
       "      <td>0.00</td>\n",
       "      <td>0.00</td>\n",
       "      <td>0.00</td>\n",
       "      <td>-0.00</td>\n",
       "      <td>-0.00</td>\n",
       "      <td>-0.06</td>\n",
       "      <td>0.03</td>\n",
       "    </tr>\n",
       "    <tr>\n",
       "      <th>V20</th>\n",
       "      <td>-0.05</td>\n",
       "      <td>0.00</td>\n",
       "      <td>-0.00</td>\n",
       "      <td>-0.00</td>\n",
       "      <td>-0.00</td>\n",
       "      <td>0.00</td>\n",
       "      <td>0.00</td>\n",
       "      <td>0.00</td>\n",
       "      <td>-0.00</td>\n",
       "      <td>-0.00</td>\n",
       "      <td>...</td>\n",
       "      <td>-0.00</td>\n",
       "      <td>0.00</td>\n",
       "      <td>0.00</td>\n",
       "      <td>0.00</td>\n",
       "      <td>-0.00</td>\n",
       "      <td>-0.00</td>\n",
       "      <td>-0.00</td>\n",
       "      <td>-0.00</td>\n",
       "      <td>0.34</td>\n",
       "      <td>0.02</td>\n",
       "    </tr>\n",
       "    <tr>\n",
       "      <th>V21</th>\n",
       "      <td>0.04</td>\n",
       "      <td>-0.00</td>\n",
       "      <td>0.00</td>\n",
       "      <td>-0.00</td>\n",
       "      <td>-0.00</td>\n",
       "      <td>-0.00</td>\n",
       "      <td>-0.00</td>\n",
       "      <td>0.00</td>\n",
       "      <td>-0.00</td>\n",
       "      <td>0.00</td>\n",
       "      <td>...</td>\n",
       "      <td>1.00</td>\n",
       "      <td>0.00</td>\n",
       "      <td>0.00</td>\n",
       "      <td>0.00</td>\n",
       "      <td>-0.00</td>\n",
       "      <td>-0.00</td>\n",
       "      <td>-0.00</td>\n",
       "      <td>0.00</td>\n",
       "      <td>0.11</td>\n",
       "      <td>0.04</td>\n",
       "    </tr>\n",
       "    <tr>\n",
       "      <th>V22</th>\n",
       "      <td>0.14</td>\n",
       "      <td>0.00</td>\n",
       "      <td>0.00</td>\n",
       "      <td>0.00</td>\n",
       "      <td>0.00</td>\n",
       "      <td>0.00</td>\n",
       "      <td>-0.00</td>\n",
       "      <td>-0.00</td>\n",
       "      <td>0.00</td>\n",
       "      <td>0.00</td>\n",
       "      <td>...</td>\n",
       "      <td>0.00</td>\n",
       "      <td>1.00</td>\n",
       "      <td>0.00</td>\n",
       "      <td>0.00</td>\n",
       "      <td>-0.00</td>\n",
       "      <td>-0.00</td>\n",
       "      <td>-0.00</td>\n",
       "      <td>-0.00</td>\n",
       "      <td>-0.06</td>\n",
       "      <td>0.00</td>\n",
       "    </tr>\n",
       "    <tr>\n",
       "      <th>V23</th>\n",
       "      <td>0.05</td>\n",
       "      <td>0.00</td>\n",
       "      <td>0.00</td>\n",
       "      <td>0.00</td>\n",
       "      <td>0.00</td>\n",
       "      <td>0.00</td>\n",
       "      <td>-0.00</td>\n",
       "      <td>0.00</td>\n",
       "      <td>0.00</td>\n",
       "      <td>0.00</td>\n",
       "      <td>...</td>\n",
       "      <td>0.00</td>\n",
       "      <td>0.00</td>\n",
       "      <td>1.00</td>\n",
       "      <td>-0.00</td>\n",
       "      <td>-0.00</td>\n",
       "      <td>0.00</td>\n",
       "      <td>0.00</td>\n",
       "      <td>0.00</td>\n",
       "      <td>-0.11</td>\n",
       "      <td>-0.00</td>\n",
       "    </tr>\n",
       "    <tr>\n",
       "      <th>V24</th>\n",
       "      <td>-0.02</td>\n",
       "      <td>0.00</td>\n",
       "      <td>-0.00</td>\n",
       "      <td>-0.00</td>\n",
       "      <td>0.00</td>\n",
       "      <td>-0.00</td>\n",
       "      <td>-0.00</td>\n",
       "      <td>-0.00</td>\n",
       "      <td>-0.00</td>\n",
       "      <td>-0.00</td>\n",
       "      <td>...</td>\n",
       "      <td>0.00</td>\n",
       "      <td>0.00</td>\n",
       "      <td>-0.00</td>\n",
       "      <td>1.00</td>\n",
       "      <td>0.00</td>\n",
       "      <td>0.00</td>\n",
       "      <td>-0.00</td>\n",
       "      <td>-0.00</td>\n",
       "      <td>0.01</td>\n",
       "      <td>-0.01</td>\n",
       "    </tr>\n",
       "    <tr>\n",
       "      <th>V25</th>\n",
       "      <td>-0.23</td>\n",
       "      <td>-0.00</td>\n",
       "      <td>-0.00</td>\n",
       "      <td>0.00</td>\n",
       "      <td>0.00</td>\n",
       "      <td>0.00</td>\n",
       "      <td>0.00</td>\n",
       "      <td>0.00</td>\n",
       "      <td>-0.00</td>\n",
       "      <td>0.00</td>\n",
       "      <td>...</td>\n",
       "      <td>-0.00</td>\n",
       "      <td>-0.00</td>\n",
       "      <td>-0.00</td>\n",
       "      <td>0.00</td>\n",
       "      <td>1.00</td>\n",
       "      <td>0.00</td>\n",
       "      <td>-0.00</td>\n",
       "      <td>0.00</td>\n",
       "      <td>-0.05</td>\n",
       "      <td>0.00</td>\n",
       "    </tr>\n",
       "    <tr>\n",
       "      <th>V26</th>\n",
       "      <td>-0.04</td>\n",
       "      <td>-0.00</td>\n",
       "      <td>0.00</td>\n",
       "      <td>0.00</td>\n",
       "      <td>-0.00</td>\n",
       "      <td>0.00</td>\n",
       "      <td>-0.00</td>\n",
       "      <td>-0.00</td>\n",
       "      <td>-0.00</td>\n",
       "      <td>-0.00</td>\n",
       "      <td>...</td>\n",
       "      <td>-0.00</td>\n",
       "      <td>-0.00</td>\n",
       "      <td>0.00</td>\n",
       "      <td>0.00</td>\n",
       "      <td>0.00</td>\n",
       "      <td>1.00</td>\n",
       "      <td>-0.00</td>\n",
       "      <td>-0.00</td>\n",
       "      <td>-0.00</td>\n",
       "      <td>0.00</td>\n",
       "    </tr>\n",
       "    <tr>\n",
       "      <th>V27</th>\n",
       "      <td>-0.01</td>\n",
       "      <td>0.00</td>\n",
       "      <td>-0.00</td>\n",
       "      <td>0.00</td>\n",
       "      <td>-0.00</td>\n",
       "      <td>0.00</td>\n",
       "      <td>-0.00</td>\n",
       "      <td>-0.00</td>\n",
       "      <td>0.00</td>\n",
       "      <td>-0.00</td>\n",
       "      <td>...</td>\n",
       "      <td>-0.00</td>\n",
       "      <td>-0.00</td>\n",
       "      <td>0.00</td>\n",
       "      <td>-0.00</td>\n",
       "      <td>-0.00</td>\n",
       "      <td>-0.00</td>\n",
       "      <td>1.00</td>\n",
       "      <td>-0.00</td>\n",
       "      <td>0.03</td>\n",
       "      <td>0.02</td>\n",
       "    </tr>\n",
       "    <tr>\n",
       "      <th>V28</th>\n",
       "      <td>-0.01</td>\n",
       "      <td>0.00</td>\n",
       "      <td>-0.00</td>\n",
       "      <td>0.00</td>\n",
       "      <td>-0.00</td>\n",
       "      <td>-0.00</td>\n",
       "      <td>0.00</td>\n",
       "      <td>-0.00</td>\n",
       "      <td>-0.00</td>\n",
       "      <td>0.00</td>\n",
       "      <td>...</td>\n",
       "      <td>0.00</td>\n",
       "      <td>-0.00</td>\n",
       "      <td>0.00</td>\n",
       "      <td>-0.00</td>\n",
       "      <td>0.00</td>\n",
       "      <td>-0.00</td>\n",
       "      <td>-0.00</td>\n",
       "      <td>1.00</td>\n",
       "      <td>0.01</td>\n",
       "      <td>0.01</td>\n",
       "    </tr>\n",
       "    <tr>\n",
       "      <th>Amount</th>\n",
       "      <td>-0.01</td>\n",
       "      <td>-0.23</td>\n",
       "      <td>-0.53</td>\n",
       "      <td>-0.21</td>\n",
       "      <td>0.10</td>\n",
       "      <td>-0.39</td>\n",
       "      <td>0.22</td>\n",
       "      <td>0.40</td>\n",
       "      <td>-0.10</td>\n",
       "      <td>-0.04</td>\n",
       "      <td>...</td>\n",
       "      <td>0.11</td>\n",
       "      <td>-0.06</td>\n",
       "      <td>-0.11</td>\n",
       "      <td>0.01</td>\n",
       "      <td>-0.05</td>\n",
       "      <td>-0.00</td>\n",
       "      <td>0.03</td>\n",
       "      <td>0.01</td>\n",
       "      <td>1.00</td>\n",
       "      <td>0.01</td>\n",
       "    </tr>\n",
       "    <tr>\n",
       "      <th>Class</th>\n",
       "      <td>-0.01</td>\n",
       "      <td>-0.10</td>\n",
       "      <td>0.09</td>\n",
       "      <td>-0.19</td>\n",
       "      <td>0.13</td>\n",
       "      <td>-0.09</td>\n",
       "      <td>-0.04</td>\n",
       "      <td>-0.19</td>\n",
       "      <td>0.02</td>\n",
       "      <td>-0.10</td>\n",
       "      <td>...</td>\n",
       "      <td>0.04</td>\n",
       "      <td>0.00</td>\n",
       "      <td>-0.00</td>\n",
       "      <td>-0.01</td>\n",
       "      <td>0.00</td>\n",
       "      <td>0.00</td>\n",
       "      <td>0.02</td>\n",
       "      <td>0.01</td>\n",
       "      <td>0.01</td>\n",
       "      <td>1.00</td>\n",
       "    </tr>\n",
       "  </tbody>\n",
       "</table>\n",
       "<p>31 rows × 31 columns</p>\n",
       "</div>"
      ],
      "text/plain": [
       "        Time    V1    V2    V3    V4    V5    V6    V7    V8    V9  ...   V21  \\\n",
       "Time    1.00  0.12 -0.01 -0.42 -0.11  0.17 -0.06  0.08 -0.04 -0.01  ...  0.04   \n",
       "V1      0.12  1.00  0.00 -0.00  0.00  0.00  0.00  0.00 -0.00  0.00  ... -0.00   \n",
       "V2     -0.01  0.00  1.00  0.00 -0.00 -0.00  0.00  0.00 -0.00 -0.00  ...  0.00   \n",
       "V3     -0.42 -0.00  0.00  1.00 -0.00 -0.00  0.00  0.00  0.00 -0.00  ... -0.00   \n",
       "V4     -0.11  0.00 -0.00 -0.00  1.00 -0.00 -0.00  0.00  0.00  0.00  ... -0.00   \n",
       "V5      0.17  0.00 -0.00 -0.00 -0.00  1.00  0.00 -0.00  0.00  0.00  ... -0.00   \n",
       "V6     -0.06  0.00  0.00  0.00 -0.00  0.00  1.00  0.00 -0.00  0.00  ... -0.00   \n",
       "V7      0.08  0.00  0.00  0.00  0.00 -0.00  0.00  1.00 -0.00  0.00  ...  0.00   \n",
       "V8     -0.04 -0.00 -0.00  0.00  0.00  0.00 -0.00 -0.00  1.00  0.00  ... -0.00   \n",
       "V9     -0.01  0.00 -0.00 -0.00  0.00  0.00  0.00  0.00  0.00  1.00  ...  0.00   \n",
       "V10     0.03  0.00 -0.00  0.00  0.00 -0.00  0.00  0.00  0.00 -0.00  ...  0.00   \n",
       "V11    -0.25  0.00  0.00 -0.00 -0.00  0.00  0.00 -0.00  0.00  0.00  ... -0.00   \n",
       "V12     0.12  0.00 -0.00  0.00 -0.00  0.00  0.00  0.00 -0.00 -0.00  ...  0.00   \n",
       "V13    -0.07 -0.00  0.00 -0.00 -0.00 -0.00 -0.00 -0.00 -0.00 -0.00  ...  0.00   \n",
       "V14    -0.10  0.00 -0.00  0.00 -0.00 -0.00  0.00 -0.00 -0.00  0.00  ...  0.00   \n",
       "V15    -0.18 -0.00  0.00  0.00 -0.00 -0.00 -0.00  0.00  0.00 -0.00  ...  0.00   \n",
       "V16     0.01  0.00  0.00  0.00 -0.00 -0.00 -0.00  0.00  0.00 -0.00  ... -0.00   \n",
       "V17    -0.07 -0.00 -0.00  0.00 -0.00  0.00  0.00  0.00 -0.00  0.00  ... -0.00   \n",
       "V18     0.09  0.00  0.00  0.00  0.00  0.00  0.00 -0.00 -0.00  0.00  ... -0.00   \n",
       "V19     0.03  0.00  0.00  0.00 -0.00 -0.00  0.00 -0.00 -0.00  0.00  ...  0.00   \n",
       "V20    -0.05  0.00 -0.00 -0.00 -0.00  0.00  0.00  0.00 -0.00 -0.00  ... -0.00   \n",
       "V21     0.04 -0.00  0.00 -0.00 -0.00 -0.00 -0.00  0.00 -0.00  0.00  ...  1.00   \n",
       "V22     0.14  0.00  0.00  0.00  0.00  0.00 -0.00 -0.00  0.00  0.00  ...  0.00   \n",
       "V23     0.05  0.00  0.00  0.00  0.00  0.00 -0.00  0.00  0.00  0.00  ...  0.00   \n",
       "V24    -0.02  0.00 -0.00 -0.00  0.00 -0.00 -0.00 -0.00 -0.00 -0.00  ...  0.00   \n",
       "V25    -0.23 -0.00 -0.00  0.00  0.00  0.00  0.00  0.00 -0.00  0.00  ... -0.00   \n",
       "V26    -0.04 -0.00  0.00  0.00 -0.00  0.00 -0.00 -0.00 -0.00 -0.00  ... -0.00   \n",
       "V27    -0.01  0.00 -0.00  0.00 -0.00  0.00 -0.00 -0.00  0.00 -0.00  ... -0.00   \n",
       "V28    -0.01  0.00 -0.00  0.00 -0.00 -0.00  0.00 -0.00 -0.00  0.00  ...  0.00   \n",
       "Amount -0.01 -0.23 -0.53 -0.21  0.10 -0.39  0.22  0.40 -0.10 -0.04  ...  0.11   \n",
       "Class  -0.01 -0.10  0.09 -0.19  0.13 -0.09 -0.04 -0.19  0.02 -0.10  ...  0.04   \n",
       "\n",
       "         V22   V23   V24   V25   V26   V27   V28  Amount  Class  \n",
       "Time    0.14  0.05 -0.02 -0.23 -0.04 -0.01 -0.01   -0.01  -0.01  \n",
       "V1      0.00  0.00  0.00 -0.00 -0.00  0.00  0.00   -0.23  -0.10  \n",
       "V2      0.00  0.00 -0.00 -0.00  0.00 -0.00 -0.00   -0.53   0.09  \n",
       "V3      0.00  0.00 -0.00  0.00  0.00  0.00  0.00   -0.21  -0.19  \n",
       "V4      0.00  0.00  0.00  0.00 -0.00 -0.00 -0.00    0.10   0.13  \n",
       "V5      0.00  0.00 -0.00  0.00  0.00  0.00 -0.00   -0.39  -0.09  \n",
       "V6     -0.00 -0.00 -0.00  0.00 -0.00 -0.00  0.00    0.22  -0.04  \n",
       "V7     -0.00  0.00 -0.00  0.00 -0.00 -0.00 -0.00    0.40  -0.19  \n",
       "V8      0.00  0.00 -0.00 -0.00 -0.00  0.00 -0.00   -0.10   0.02  \n",
       "V9      0.00  0.00 -0.00  0.00 -0.00 -0.00  0.00   -0.04  -0.10  \n",
       "V10    -0.00  0.00 -0.00 -0.00 -0.00 -0.00 -0.00   -0.10  -0.22  \n",
       "V11    -0.00  0.00  0.00 -0.00 -0.00 -0.00 -0.00    0.00   0.15  \n",
       "V12    -0.00  0.00  0.00  0.00 -0.00 -0.00  0.00   -0.01  -0.26  \n",
       "V13    -0.00 -0.00 -0.00  0.00 -0.00 -0.00  0.00    0.01  -0.00  \n",
       "V14     0.00  0.00  0.00 -0.00 -0.00  0.00  0.00    0.03  -0.30  \n",
       "V15    -0.00  0.00 -0.00  0.00  0.00 -0.00 -0.00   -0.00  -0.00  \n",
       "V16     0.00  0.00 -0.00 -0.00 -0.00  0.00  0.00   -0.00  -0.20  \n",
       "V17    -0.00  0.00 -0.00  0.00  0.00  0.00 -0.00    0.01  -0.33  \n",
       "V18    -0.00 -0.00 -0.00 -0.00  0.00  0.00  0.00    0.04  -0.11  \n",
       "V19    -0.00  0.00  0.00  0.00  0.00 -0.00 -0.00   -0.06   0.03  \n",
       "V20     0.00  0.00  0.00 -0.00 -0.00 -0.00 -0.00    0.34   0.02  \n",
       "V21     0.00  0.00  0.00 -0.00 -0.00 -0.00  0.00    0.11   0.04  \n",
       "V22     1.00  0.00  0.00 -0.00 -0.00 -0.00 -0.00   -0.06   0.00  \n",
       "V23     0.00  1.00 -0.00 -0.00  0.00  0.00  0.00   -0.11  -0.00  \n",
       "V24     0.00 -0.00  1.00  0.00  0.00 -0.00 -0.00    0.01  -0.01  \n",
       "V25    -0.00 -0.00  0.00  1.00  0.00 -0.00  0.00   -0.05   0.00  \n",
       "V26    -0.00  0.00  0.00  0.00  1.00 -0.00 -0.00   -0.00   0.00  \n",
       "V27    -0.00  0.00 -0.00 -0.00 -0.00  1.00 -0.00    0.03   0.02  \n",
       "V28    -0.00  0.00 -0.00  0.00 -0.00 -0.00  1.00    0.01   0.01  \n",
       "Amount -0.06 -0.11  0.01 -0.05 -0.00  0.03  0.01    1.00   0.01  \n",
       "Class   0.00 -0.00 -0.01  0.00  0.00  0.02  0.01    0.01   1.00  \n",
       "\n",
       "[31 rows x 31 columns]"
      ]
     },
     "execution_count": 65,
     "metadata": {},
     "output_type": "execute_result"
    }
   ],
   "source": [
    "#Usaremos la función de Pandas dataframe.corr() para encontrar la correlación por pares de todas las columnas de nuestro dataset. \n",
    "#Cualquier valor nulo se excluye automáticamente.\n",
    "\n",
    "correlacion = df.corr()\n",
    "correlacion"
   ]
  },
  {
   "cell_type": "code",
   "execution_count": 66,
   "id": "3853e81b",
   "metadata": {},
   "outputs": [
    {
     "data": {
      "text/plain": [
       "(array([ 0.5,  1.5,  2.5,  3.5,  4.5,  5.5,  6.5,  7.5,  8.5,  9.5, 10.5,\n",
       "        11.5, 12.5, 13.5, 14.5, 15.5, 16.5, 17.5, 18.5, 19.5, 20.5, 21.5,\n",
       "        22.5, 23.5, 24.5, 25.5, 26.5, 27.5, 28.5, 29.5, 30.5]),\n",
       " [Text(0.5, 0, 'Time'),\n",
       "  Text(1.5, 0, 'V1'),\n",
       "  Text(2.5, 0, 'V2'),\n",
       "  Text(3.5, 0, 'V3'),\n",
       "  Text(4.5, 0, 'V4'),\n",
       "  Text(5.5, 0, 'V5'),\n",
       "  Text(6.5, 0, 'V6'),\n",
       "  Text(7.5, 0, 'V7'),\n",
       "  Text(8.5, 0, 'V8'),\n",
       "  Text(9.5, 0, 'V9'),\n",
       "  Text(10.5, 0, 'V10'),\n",
       "  Text(11.5, 0, 'V11'),\n",
       "  Text(12.5, 0, 'V12'),\n",
       "  Text(13.5, 0, 'V13'),\n",
       "  Text(14.5, 0, 'V14'),\n",
       "  Text(15.5, 0, 'V15'),\n",
       "  Text(16.5, 0, 'V16'),\n",
       "  Text(17.5, 0, 'V17'),\n",
       "  Text(18.5, 0, 'V18'),\n",
       "  Text(19.5, 0, 'V19'),\n",
       "  Text(20.5, 0, 'V20'),\n",
       "  Text(21.5, 0, 'V21'),\n",
       "  Text(22.5, 0, 'V22'),\n",
       "  Text(23.5, 0, 'V23'),\n",
       "  Text(24.5, 0, 'V24'),\n",
       "  Text(25.5, 0, 'V25'),\n",
       "  Text(26.5, 0, 'V26'),\n",
       "  Text(27.5, 0, 'V27'),\n",
       "  Text(28.5, 0, 'V28'),\n",
       "  Text(29.5, 0, 'Amount'),\n",
       "  Text(30.5, 0, 'Class')])"
      ]
     },
     "execution_count": 66,
     "metadata": {},
     "output_type": "execute_result"
    },
    {
     "data": {
      "image/png": "[encoded data removed]",
      "text/plain": [
       "<Figure size 1440x936 with 2 Axes>"
      ]
     },
     "metadata": {
      "needs_background": "light"
     },
     "output_type": "display_data"
    }
   ],
   "source": [
    "plt.figure(figsize=(20,13))\n",
    "sns.heatmap(correlacion, annot=True, annot_kws={\"size\": 7})\n",
    "plt.title('Correlación de Features', fontsize=16)\n",
    "plt.yticks(fontsize=10, rotation=0)\n",
    "plt.xticks(fontsize=10)"
   ]
  },
  {
   "cell_type": "markdown",
   "id": "0c316929",
   "metadata": {},
   "source": [
    "Como podemos ver, algunos de nuestros predictores parecen estar correlacionados con la variable tipo de transacción ('Class'). No obstante, parece haber relativamente pocas correlaciones significativas para un número tan grande de variables."
   ]
  },
  {
   "cell_type": "markdown",
   "id": "bf656f89",
   "metadata": {},
   "source": [
    "---\n",
    "<a id=\"estandarizacion\"></a> \n",
    "### 5.3. Preparación de los datos. Estandarización.\n",
    "[Ir a índice](#indice)"
   ]
  },
  {
   "cell_type": "markdown",
   "id": "5f666810",
   "metadata": {},
   "source": [
    "Con el fin de evitar problemas a futuro, vamos a estandarizar las columnas de tiempo y cantidad, que, tal como se aclara en Kaggle, son las únicas features que no fueron transformadas."
   ]
  },
  {
   "cell_type": "markdown",
   "id": "a0e49477",
   "metadata": {},
   "source": [
    "Para esto, vamos a hacer uso de la clase sklearn.preprocessing.StandardScaler, la cual estandariza los datos eliminando la media y escalandolos de forma que su varianza sea igual a 1."
   ]
  },
  {
   "cell_type": "code",
   "execution_count": 67,
   "id": "320d0e97",
   "metadata": {},
   "outputs": [],
   "source": [
    "#Instancio una clase de StandardScaler.\n",
    "scaler = StandardScaler()"
   ]
  },
  {
   "cell_type": "code",
   "execution_count": 68,
   "id": "df914dd4",
   "metadata": {},
   "outputs": [],
   "source": [
    "#Estandarizamos la columna de cantidad.\n",
    "scaled_amount = scaler.fit_transform(df[['Amount']])\n",
    "flat_list = [item for sublist in scaled_amount.tolist() for item in sublist]\n",
    "scaled_amount = pd.Series(flat_list)"
   ]
  },
  {
   "cell_type": "code",
   "execution_count": 69,
   "id": "1f3658b7",
   "metadata": {},
   "outputs": [],
   "source": [
    "#Estandarizamos la columna de tiempo.\n",
    "scaled_time = scaler.fit_transform(df[['Time']])\n",
    "flat_list = [item for sublist in scaled_time.tolist() for item in sublist]\n",
    "scaled_time = pd.Series(flat_list)"
   ]
  },
  {
   "cell_type": "code",
   "execution_count": 70,
   "id": "b8f86e94",
   "metadata": {},
   "outputs": [
    {
     "data": {
      "text/html": [
       "<div>\n",
       "<style scoped>\n",
       "    .dataframe tbody tr th:only-of-type {\n",
       "        vertical-align: middle;\n",
       "    }\n",
       "\n",
       "    .dataframe tbody tr th {\n",
       "        vertical-align: top;\n",
       "    }\n",
       "\n",
       "    .dataframe thead th {\n",
       "        text-align: right;\n",
       "    }\n",
       "</style>\n",
       "<table border=\"1\" class=\"dataframe\">\n",
       "  <thead>\n",
       "    <tr style=\"text-align: right;\">\n",
       "      <th></th>\n",
       "      <th>Time</th>\n",
       "      <th>V1</th>\n",
       "      <th>V2</th>\n",
       "      <th>V3</th>\n",
       "      <th>V4</th>\n",
       "      <th>V5</th>\n",
       "      <th>V6</th>\n",
       "      <th>V7</th>\n",
       "      <th>V8</th>\n",
       "      <th>V9</th>\n",
       "      <th>...</th>\n",
       "      <th>V23</th>\n",
       "      <th>V24</th>\n",
       "      <th>V25</th>\n",
       "      <th>V26</th>\n",
       "      <th>V27</th>\n",
       "      <th>V28</th>\n",
       "      <th>Amount</th>\n",
       "      <th>Class</th>\n",
       "      <th>scaled_amount</th>\n",
       "      <th>scaled_time</th>\n",
       "    </tr>\n",
       "  </thead>\n",
       "  <tbody>\n",
       "    <tr>\n",
       "      <th>0</th>\n",
       "      <td>0.00</td>\n",
       "      <td>-1.36</td>\n",
       "      <td>-0.07</td>\n",
       "      <td>2.54</td>\n",
       "      <td>1.38</td>\n",
       "      <td>-0.34</td>\n",
       "      <td>0.46</td>\n",
       "      <td>0.24</td>\n",
       "      <td>0.10</td>\n",
       "      <td>0.36</td>\n",
       "      <td>...</td>\n",
       "      <td>-0.11</td>\n",
       "      <td>0.07</td>\n",
       "      <td>0.13</td>\n",
       "      <td>-0.19</td>\n",
       "      <td>0.13</td>\n",
       "      <td>-0.02</td>\n",
       "      <td>149.62</td>\n",
       "      <td>0</td>\n",
       "      <td>0.24</td>\n",
       "      <td>-2.00</td>\n",
       "    </tr>\n",
       "    <tr>\n",
       "      <th>1</th>\n",
       "      <td>0.00</td>\n",
       "      <td>1.19</td>\n",
       "      <td>0.27</td>\n",
       "      <td>0.17</td>\n",
       "      <td>0.45</td>\n",
       "      <td>0.06</td>\n",
       "      <td>-0.08</td>\n",
       "      <td>-0.08</td>\n",
       "      <td>0.09</td>\n",
       "      <td>-0.26</td>\n",
       "      <td>...</td>\n",
       "      <td>0.10</td>\n",
       "      <td>-0.34</td>\n",
       "      <td>0.17</td>\n",
       "      <td>0.13</td>\n",
       "      <td>-0.01</td>\n",
       "      <td>0.01</td>\n",
       "      <td>2.69</td>\n",
       "      <td>0</td>\n",
       "      <td>-0.34</td>\n",
       "      <td>-2.00</td>\n",
       "    </tr>\n",
       "    <tr>\n",
       "      <th>2</th>\n",
       "      <td>1.00</td>\n",
       "      <td>-1.36</td>\n",
       "      <td>-1.34</td>\n",
       "      <td>1.77</td>\n",
       "      <td>0.38</td>\n",
       "      <td>-0.50</td>\n",
       "      <td>1.80</td>\n",
       "      <td>0.79</td>\n",
       "      <td>0.25</td>\n",
       "      <td>-1.51</td>\n",
       "      <td>...</td>\n",
       "      <td>0.91</td>\n",
       "      <td>-0.69</td>\n",
       "      <td>-0.33</td>\n",
       "      <td>-0.14</td>\n",
       "      <td>-0.06</td>\n",
       "      <td>-0.06</td>\n",
       "      <td>378.66</td>\n",
       "      <td>0</td>\n",
       "      <td>1.16</td>\n",
       "      <td>-2.00</td>\n",
       "    </tr>\n",
       "    <tr>\n",
       "      <th>3</th>\n",
       "      <td>1.00</td>\n",
       "      <td>-0.97</td>\n",
       "      <td>-0.19</td>\n",
       "      <td>1.79</td>\n",
       "      <td>-0.86</td>\n",
       "      <td>-0.01</td>\n",
       "      <td>1.25</td>\n",
       "      <td>0.24</td>\n",
       "      <td>0.38</td>\n",
       "      <td>-1.39</td>\n",
       "      <td>...</td>\n",
       "      <td>-0.19</td>\n",
       "      <td>-1.18</td>\n",
       "      <td>0.65</td>\n",
       "      <td>-0.22</td>\n",
       "      <td>0.06</td>\n",
       "      <td>0.06</td>\n",
       "      <td>123.50</td>\n",
       "      <td>0</td>\n",
       "      <td>0.14</td>\n",
       "      <td>-2.00</td>\n",
       "    </tr>\n",
       "    <tr>\n",
       "      <th>4</th>\n",
       "      <td>2.00</td>\n",
       "      <td>-1.16</td>\n",
       "      <td>0.88</td>\n",
       "      <td>1.55</td>\n",
       "      <td>0.40</td>\n",
       "      <td>-0.41</td>\n",
       "      <td>0.10</td>\n",
       "      <td>0.59</td>\n",
       "      <td>-0.27</td>\n",
       "      <td>0.82</td>\n",
       "      <td>...</td>\n",
       "      <td>-0.14</td>\n",
       "      <td>0.14</td>\n",
       "      <td>-0.21</td>\n",
       "      <td>0.50</td>\n",
       "      <td>0.22</td>\n",
       "      <td>0.22</td>\n",
       "      <td>69.99</td>\n",
       "      <td>0</td>\n",
       "      <td>-0.07</td>\n",
       "      <td>-2.00</td>\n",
       "    </tr>\n",
       "  </tbody>\n",
       "</table>\n",
       "<p>5 rows × 33 columns</p>\n",
       "</div>"
      ],
      "text/plain": [
       "   Time    V1    V2   V3    V4    V5    V6    V7    V8    V9  ...   V23   V24  \\\n",
       "0  0.00 -1.36 -0.07 2.54  1.38 -0.34  0.46  0.24  0.10  0.36  ... -0.11  0.07   \n",
       "1  0.00  1.19  0.27 0.17  0.45  0.06 -0.08 -0.08  0.09 -0.26  ...  0.10 -0.34   \n",
       "2  1.00 -1.36 -1.34 1.77  0.38 -0.50  1.80  0.79  0.25 -1.51  ...  0.91 -0.69   \n",
       "3  1.00 -0.97 -0.19 1.79 -0.86 -0.01  1.25  0.24  0.38 -1.39  ... -0.19 -1.18   \n",
       "4  2.00 -1.16  0.88 1.55  0.40 -0.41  0.10  0.59 -0.27  0.82  ... -0.14  0.14   \n",
       "\n",
       "    V25   V26   V27   V28  Amount  Class  scaled_amount  scaled_time  \n",
       "0  0.13 -0.19  0.13 -0.02  149.62      0           0.24        -2.00  \n",
       "1  0.17  0.13 -0.01  0.01    2.69      0          -0.34        -2.00  \n",
       "2 -0.33 -0.14 -0.06 -0.06  378.66      0           1.16        -2.00  \n",
       "3  0.65 -0.22  0.06  0.06  123.50      0           0.14        -2.00  \n",
       "4 -0.21  0.50  0.22  0.22   69.99      0          -0.07        -2.00  \n",
       "\n",
       "[5 rows x 33 columns]"
      ]
     },
     "execution_count": 70,
     "metadata": {},
     "output_type": "execute_result"
    }
   ],
   "source": [
    "#Concatenamos las nuevas columnas al dataset.\n",
    "df = pd.concat([df, scaled_amount.rename('scaled_amount'), scaled_time.rename('scaled_time')], axis=1)\n",
    "df.head(5)"
   ]
  },
  {
   "cell_type": "code",
   "execution_count": 71,
   "id": "49bd554e",
   "metadata": {},
   "outputs": [],
   "source": [
    "#Droppeamos las columnas de tiempo y cantidad originales.\n",
    "df.drop(['Amount', 'Time'], axis=1, inplace=True)"
   ]
  },
  {
   "cell_type": "markdown",
   "id": "6980b1b6",
   "metadata": {},
   "source": [
    "---\n",
    "<a id=\"estrategias\"></a> \n",
    "### 5.4. Estrategias para el manejo de datos desbalanceados.\n",
    "[Ir a índice](#indice)"
   ]
  },
  {
   "cell_type": "markdown",
   "id": "809bf1d5",
   "metadata": {},
   "source": [
    "Atento a que nuestro objetivo es crear un conjunto de datos de entrenamiento que permita que nuestros algoritmos recojan las características específicas que hacen que una transacción sea más o menos probable que sea fraudulenta, el uso del conjunto de datos original no resultaría eficiente debido a que se encuentra desequilibrado: dado que más del 99% de nuestras transacciones no son fraudulentas, un algoritmo que siempre predice que la transacción no es fraudulenta lograría una precisión superior a 99 %. Sin embargo, eso es lo contrario de lo que queremos. \n",
    "\n",
    "No queremos una precisión del 99% que se logra al nunca etiquetar una transacción como fraudulenta, queremos detectar transacciones fraudulentas y etiquetarlas como tales.\n",
    "\n",
    "El funcionamiento de la regresión logística, al igual que la regresión lineal, es eficiente cuando se utilizan atributos relacionados con la de salida, eliminando aquellos que no lo están. \n",
    "\n",
    "Asimismo, es importante eliminar las características que muestran una gran multicolinealidad entre sí. Por lo que la selección de las características previa al entrenamiento del modelo es clave."
   ]
  },
  {
   "cell_type": "markdown",
   "id": "c31b27a8",
   "metadata": {},
   "source": [
    "Existen diversas estrategias para trabajar con sets de datos desbalanceados:\n",
    "* **Ajuste de parámetros del modelo (penalización)**: consiste en ajustar parametros ó metricas del propio algoritmo para intentar equilibrar a la clase minoritaria penalizando a la clase mayoritaria durante el entrenamiento. Ejemplos son ajuste de peso en árboles, también en logisticregression tenemos el parámetro class_weight= “balanced” que utilizaremos en este ejemplo. No todos los algoritmos tienen estas posibilidades. \n",
    "\n",
    "* **Modificar el dataset**: podemos eliminar muestras de la clase mayoritaria A fin de reducirlo e intentar equilibrar la situación; sin embargo, corremos el riesgo de prescindir de muestras importantes, que brindan información y por lo tanto empeorar el modelo. Entonces para seleccionar qué muestras eliminar, deberíamos seguir algún criterio. También podríamos agregar nuevas filas con los mismos valores de las clases minoritarias, por ejemplo cuadriplicar nuestras 492 filas de transacciones fraudulentas; no obstante, llevar a cabo ésta estrategia puede llevar al modelo a caer en overfitting.\n",
    "\n",
    "* **Utilizar muestras artificiales**: podemos intentar crear muestras sintéticas (no idénticas) utilizando diversos algoritmos que intentan seguir la tendencia del grupo minoritario. Lo peligroso de crear muestras sintéticas es que podemos alterar la distribución “natural” de esa clase y confundir al modelo en su clasificación.\n",
    "\n",
    "* **Balanced Ensemble Methods**: ensamble de métodos, es decir, se entrenan diversos modelos y entre todos se obtiene el resultado final (por ejemplo “votando”) pero se asegura de tomar muestras de entrenamiento equilibradas."
   ]
  },
  {
   "cell_type": "markdown",
   "id": "223cf0b0",
   "metadata": {},
   "source": [
    "Aplicaremos las distintas técnicas para seleccionar la que mejor performa para el dataset utilizado y el objetivo perseguido. Tomaremos como base el modelo de Regresión Logística, aplicándolo en primer lugar al dataset tal cual se obtuvo y luego se aplicarán las estrategias mencionadas."
   ]
  },
  {
   "cell_type": "markdown",
   "id": "ffa88991",
   "metadata": {},
   "source": [
    "---\n",
    "<a id=\"funciones\"></a> \n",
    "### 5.5. Definición de funciones.\n",
    "[Ir a índice](#indice)"
   ]
  },
  {
   "cell_type": "markdown",
   "id": "970c93ab",
   "metadata": {},
   "source": [
    "Primero vamos a definir las funciones que utilizaremos para implementar los distintos modelos, calcular sus scores y graficas las matrices de confusión."
   ]
  },
  {
   "cell_type": "code",
   "execution_count": 72,
   "id": "53a384f4",
   "metadata": {},
   "outputs": [],
   "source": [
    "resume = {}\n",
    "results = pd.DataFrame()"
   ]
  },
  {
   "cell_type": "code",
   "execution_count": 73,
   "id": "8aa968af",
   "metadata": {},
   "outputs": [],
   "source": [
    "def predict_estimator(clf, X_test, X_train, y_train):\n",
    "    '''Calcula predictores para el clasificador que se elija, pasándoselo como parámetro clf'''\n",
    "    \n",
    "    model = clf.fit(X_train, y_train)\n",
    "    y_pred = clf.predict(X_test)\n",
    "    y_pred_prob = clf.predict_proba(X_test)\n",
    "    train_pred = clf.predict(X_train)\n",
    "    \n",
    "    return model, y_pred, y_pred_prob, train_pred\n"
   ]
  },
  {
   "cell_type": "code",
   "execution_count": 74,
   "id": "e5f54e63",
   "metadata": {},
   "outputs": [],
   "source": [
    "def run_lr_model(X_train, X_test, y_train, y_test):\n",
    "    '''Crea un modelo de Regresión logística cada vez que se la ejecuta'''\n",
    "    \n",
    "    clf_base = LogisticRegression(C=1.0,penalty='l2',random_state=1,solver=\"newton-cg\")\n",
    "    clf_base.fit(X_train, y_train)\n",
    "    return clf_base\n",
    "\n",
    "\n",
    "def roc_auc_curve(y_test, pred_prob_y):\n",
    "    '''Grafica la Curva Roc'''\n",
    "    \n",
    "    fpr_log,tpr_log,thr_log = roc_curve(y_test, pred_prob_y[:,1])\n",
    "    df = pd.DataFrame(dict(fpr=fpr_log, tpr=tpr_log, thr = thr_log))\n",
    "    plt.axis([0, 1.01, 0, 1.01])\n",
    "    plt.xlabel('1 - Specificty')\n",
    "    plt.ylabel('TPR / Sensitivity')\n",
    "    plt.title('ROC Curve')\n",
    "    plt.plot(df['fpr'],df['tpr'])\n",
    "    plt.plot(np.arange(0,1, step =0.01), np.arange(0,1, step =0.01))\n",
    "    plt.show()\n",
    "    \n",
    "\n",
    "def show_results(clf, model, X_test, y_test):\n",
    "    '''Calcula scores del modelo y Grafica la matriz de confusión'''\n",
    "    \n",
    "    pred_y = model.predict(X_test)\n",
    "    pred_prob_y = model.predict_proba(X_test)\n",
    "    conf_matrix = confusion_matrix(y_test, pred_y)\n",
    "    plt.figure(figsize=(12, 12))\n",
    "    sns.heatmap(conf_matrix, xticklabels=LABELS, yticklabels=LABELS, annot=True, fmt=\"d\")\n",
    "    plt.title(\"Matriz de Confusión\")\n",
    "    plt.ylabel('Clase Real')\n",
    "    plt.xlabel('Predicción')\n",
    "    plt.show()\n",
    "    \n",
    "    recall_s = recall_score(y_test, pred_y)\n",
    "    pecision_s = precision_score(y_test, pred_y)\n",
    "    f1_s = f1_score(y_test, pred_y)\n",
    "    roc_value = roc_auc_score(y_test, pred_prob_y[:,1])\n",
    "    accuracy_s = accuracy_score(y_test, pred_y).round(2)\n",
    "    \n",
    "    resume = {'Clasificador': clf,\n",
    "          'Recall': recall_s,\n",
    "          'Precision': pecision_s,\n",
    "          'f1 Score': f1_s,\n",
    "          'Accuracy Score': accuracy_s,\n",
    "          'ROC AUC': roc_value}    \n",
    "    \n",
    "    print (classification_report(y_test, pred_y))\n",
    "    \n",
    "    print(\"\\nRecall: {}\".format(recall_s))\n",
    "    \n",
    "    print(\"\\nROC AUC: {}\".format(roc_value))\n",
    "\n",
    "    roc_auc_curve(y_test, pred_prob_y)\n",
    "    \n",
    "    return resume "
   ]
  },
  {
   "cell_type": "code",
   "execution_count": 75,
   "id": "5b3ac20e",
   "metadata": {},
   "outputs": [],
   "source": [
    "def resume(results,resume):\n",
    "    '''Appendea en el df results los resultados de cada clasificador para facilitar la comparación'''\n",
    "    results = results.append(resume,ignore_index=True)\n",
    "    results = results.sort_values(['ROC AUC'], ascending=False)\n",
    "    return results"
   ]
  },
  {
   "cell_type": "markdown",
   "id": "c2ded081",
   "metadata": {},
   "source": [
    "---\n",
    "<a id=\"train_test\"></a> \n",
    "### 5.6. Definición de features, target y sets de train & test.\n",
    "[Ir a índice](#indice)"
   ]
  },
  {
   "cell_type": "code",
   "execution_count": 76,
   "id": "cc976e3a",
   "metadata": {},
   "outputs": [],
   "source": [
    "#Preparamos los datos en una matriz de features 'X' y un array target 'y'.\n",
    "\n",
    "X = df.drop('Class', axis=1).values\n",
    "y = df['Class'].values"
   ]
  },
  {
   "cell_type": "markdown",
   "id": "512babc4",
   "metadata": {},
   "source": [
    "Creamos los conjuntos de entrenamiento y test, estableciendo el valor del parámetro stratify para que los datos se dividan de forma estratificada según las etiquetas de Class. Esto construye conjuntos de entrenamiento y test que mantienen la misma proporción de registros en cada categoría que en el dataset original."
   ]
  },
  {
   "cell_type": "code",
   "execution_count": 77,
   "id": "1a75efd7",
   "metadata": {},
   "outputs": [],
   "source": [
    "#Separo en sets de entrenamiento y test.\n",
    "\n",
    "X_train, X_test, y_train, y_test = train_test_split(X, y, random_state=42, stratify=y, test_size=0.25) "
   ]
  },
  {
   "cell_type": "markdown",
   "id": "54361468",
   "metadata": {},
   "source": [
    "---\n",
    "<a id=\"modelos_clf\"></a> \n",
    "### 5.7. Modelos de Clasificación.\n",
    "[Ir a índice](#indice)"
   ]
  },
  {
   "cell_type": "markdown",
   "id": "b6d2f06e",
   "metadata": {},
   "source": [
    "---\n",
    "<a id=\"rl\"></a> \n",
    "#### 5.7.1.\tRegresión logística sin aplicar estrategias para el manejo de desbalanceo.\n",
    "[Ir a índice](#indice)"
   ]
  },
  {
   "cell_type": "code",
   "execution_count": 78,
   "id": "4dc716f0",
   "metadata": {
    "scrolled": true
   },
   "outputs": [],
   "source": [
    "model = run_lr_model(X_train, X_test, y_train, y_test)"
   ]
  },
  {
   "cell_type": "code",
   "execution_count": 79,
   "id": "4bc284ba",
   "metadata": {},
   "outputs": [
    {
     "data": {
      "image/png": "[encoded data removed]",
      "text/plain": [
       "<Figure size 864x864 with 2 Axes>"
      ]
     },
     "metadata": {
      "needs_background": "light"
     },
     "output_type": "display_data"
    },
    {
     "name": "stdout",
     "output_type": "stream",
     "text": [
      "              precision    recall  f1-score   support\n",
      "\n",
      "           0       1.00      1.00      1.00     71079\n",
      "           1       0.84      0.62      0.71       123\n",
      "\n",
      "    accuracy                           1.00     71202\n",
      "   macro avg       0.92      0.81      0.86     71202\n",
      "weighted avg       1.00      1.00      1.00     71202\n",
      "\n",
      "\n",
      "Recall: 0.6178861788617886\n",
      "\n",
      "ROC AUC: 0.9578810568842614\n"
     ]
    },
    {
     "data": {
      "image/png": "[encoded data removed]",
      "text/plain": [
       "<Figure size 432x288 with 1 Axes>"
      ]
     },
     "metadata": {
      "needs_background": "light"
     },
     "output_type": "display_data"
    }
   ],
   "source": [
    "resume_lr = show_results('Logistic Regression', model, X_test, y_test)"
   ]
  },
  {
   "cell_type": "code",
   "execution_count": 80,
   "id": "81c6ab8a",
   "metadata": {},
   "outputs": [],
   "source": [
    "results = resume(results,resume_lr)"
   ]
  },
  {
   "cell_type": "markdown",
   "id": "1e4eed36",
   "metadata": {},
   "source": [
    "Como vemos en la matriz de confusión, en la clase 2 (casos fraudulentos) vemos 47 fallos y 76 aciertos dando un recall de 0.62 y es el valor que queremos mejorar. También es interesante notar que en la columna de f1-score obtenemos muy buenos resultados; no obstante, están reflejando una realidad parcial."
   ]
  },
  {
   "cell_type": "markdown",
   "id": "191e7947",
   "metadata": {},
   "source": [
    "---\n",
    "<a id=\"rl_penalizacion\"></a> \n",
    "#### 5.7.2. Regresión logística aplicando técnica de penalización para compensar desequilibrio.\n",
    "[Ir a índice](#indice)"
   ]
  },
  {
   "cell_type": "markdown",
   "id": "6be9b461",
   "metadata": {},
   "source": [
    "Utilizaremos un parámetro adicional en el modelo de Regresión logística en donde indicamos class_weight = “balanced” y con esto el algoritmo se encargará de equilibrar a la clase minoritaria durante el entrenamiento."
   ]
  },
  {
   "cell_type": "code",
   "execution_count": 81,
   "id": "9efd1fd8",
   "metadata": {},
   "outputs": [],
   "source": [
    "clf = LogisticRegression(C=1.0,penalty='l2',random_state=1,solver=\"newton-cg\",class_weight=\"balanced\")\n",
    "model = clf.fit(X_train, y_train)"
   ]
  },
  {
   "cell_type": "code",
   "execution_count": 82,
   "id": "7770d0e7",
   "metadata": {},
   "outputs": [
    {
     "data": {
      "image/png": "[encoded data removed]",
      "text/plain": [
       "<Figure size 864x864 with 2 Axes>"
      ]
     },
     "metadata": {
      "needs_background": "light"
     },
     "output_type": "display_data"
    },
    {
     "name": "stdout",
     "output_type": "stream",
     "text": [
      "              precision    recall  f1-score   support\n",
      "\n",
      "           0       1.00      0.98      0.99     71079\n",
      "           1       0.06      0.89      0.12       123\n",
      "\n",
      "    accuracy                           0.98     71202\n",
      "   macro avg       0.53      0.93      0.55     71202\n",
      "weighted avg       1.00      0.98      0.99     71202\n",
      "\n",
      "\n",
      "Recall: 0.8861788617886179\n",
      "\n",
      "ROC AUC: 0.972643973263689\n"
     ]
    },
    {
     "data": {
      "image/png": "[encoded data removed]",
      "text/plain": [
       "<Figure size 432x288 with 1 Axes>"
      ]
     },
     "metadata": {
      "needs_background": "light"
     },
     "output_type": "display_data"
    }
   ],
   "source": [
    "resume_penalized_lr = show_results('Penalized Linear Regression', model, X_test, y_test)"
   ]
  },
  {
   "cell_type": "markdown",
   "id": "b3972178",
   "metadata": {},
   "source": [
    "Vemos una sustancial mejora, en este caso se han acertado 109 muestras (calificadas correctamente como fraudes) y fallado en 14, dando un recall de 0.89. Por otra parte, en la columna de f1-score parecería que hubieran “empeorado” los resultados cuando realmente estamos mejorando la detección de casos fraudulentos. Es cierto que aumentan los Falsos Positivos y se han etiquetado 1631 muestras como Fraudulentas cuando no lo eran. Pero retomando nuevamente el objetivo del trabajo y para qué usuario/cliente estaría enfocado, entendemos que resulta más importante detectar los verdaderos casos de fraude."
   ]
  },
  {
   "cell_type": "code",
   "execution_count": 83,
   "id": "ff7bd783",
   "metadata": {},
   "outputs": [],
   "source": [
    "results = resume(results,resume_penalized_lr)"
   ]
  },
  {
   "cell_type": "markdown",
   "id": "f03e9b05",
   "metadata": {},
   "source": [
    "---\n",
    "<a id=\"nearmiss\"></a> \n",
    "#### 5.7.3. NearMiss. Regresión logística aplicando la técnica de subsampling en la clase mayoritaria.\n",
    "[Ir a índice](#indice)"
   ]
  },
  {
   "cell_type": "markdown",
   "id": "c4eaea85",
   "metadata": {},
   "source": [
    "Utilizaremos un algoritmo para reducir la clase mayoritaria (hace similar al k-nearest neighbor para ir seleccionando cuáles eliminar) y con esas muestras entrenamos el modelo. La clase NearMiss de la librería imbalanced learn (imblearn)."
   ]
  },
  {
   "cell_type": "code",
   "execution_count": 84,
   "id": "428a6cb2",
   "metadata": {},
   "outputs": [
    {
     "name": "stdout",
     "output_type": "stream",
     "text": [
      "Distribución de los tipos de transacción antes del resampling Counter({0: 213236, 1: 369})\n",
      "Distribution de los tipos de transacción luego del resampling Counter({0: 369, 1: 369})\n"
     ]
    },
    {
     "data": {
      "image/png": "[encoded data removed]",
      "text/plain": [
       "<Figure size 864x864 with 2 Axes>"
      ]
     },
     "metadata": {
      "needs_background": "light"
     },
     "output_type": "display_data"
    },
    {
     "name": "stdout",
     "output_type": "stream",
     "text": [
      "              precision    recall  f1-score   support\n",
      "\n",
      "           0       1.00      0.38      0.55     71079\n",
      "           1       0.00      0.93      0.01       123\n",
      "\n",
      "    accuracy                           0.38     71202\n",
      "   macro avg       0.50      0.66      0.28     71202\n",
      "weighted avg       1.00      0.38      0.55     71202\n",
      "\n",
      "\n",
      "Recall: 0.9349593495934959\n",
      "\n",
      "ROC AUC: 0.7966512012226863\n"
     ]
    },
    {
     "data": {
      "image/png": "[encoded data removed]",
      "text/plain": [
       "<Figure size 432x288 with 1 Axes>"
      ]
     },
     "metadata": {
      "needs_background": "light"
     },
     "output_type": "display_data"
    }
   ],
   "source": [
    "subsampling = NearMiss(n_neighbors=3, version=2)\n",
    "X_train_res, y_train_res = subsampling.fit_resample(X_train, y_train)\n",
    " \n",
    "print (\"Distribución de los tipos de transacción antes del resampling {}\".format(Counter(y_train)))\n",
    "print (\"Distribution de los tipos de transacción luego del resampling {}\".format(Counter(y_train_res)))\n",
    " \n",
    "model = run_lr_model(X_train_res, X_test, y_train_res, y_test)\n",
    "resume_nm = show_results('NearMiss', model, X_test, y_test)\n"
   ]
  },
  {
   "cell_type": "markdown",
   "id": "af19b166",
   "metadata": {},
   "source": [
    "También vemos que obtenemos muy buen resultado con recall de 0.93 aunque a costa de que aumentaran los falsos positivos. Reducimos de forma abrupta de 213236 muestras de clase cero o transacciones no fraudulentas (la mayoría) y pasan a ser 369. y Con esas muestras entrenamos el modelo"
   ]
  },
  {
   "cell_type": "code",
   "execution_count": 85,
   "id": "a7380cf2",
   "metadata": {},
   "outputs": [],
   "source": [
    "results = resume(results,resume_nm)"
   ]
  },
  {
   "cell_type": "markdown",
   "id": "1bd11c8c",
   "metadata": {},
   "source": [
    "---\n",
    "<a id=\"oversampler\"></a> \n",
    "#### 5.7.4. RandomOverSampler. Regresión logística aplicando la técnica de oversampling en la clase minoritaria.\n",
    "[Ir a índice](#indice)"
   ]
  },
  {
   "cell_type": "markdown",
   "id": "b2b5f5d2",
   "metadata": {},
   "source": [
    "Crearemos nuevas muestras “sintéticas” de la clase minoritaria usando la clase RandomOverSampler, también de la librería imbalanced learn. \n",
    "Lo que hace es realizar un sobremuestreo aleatorio de la(s) clase(s) minoritaria(s), seleccionando muestras al azar con reemplazo."
   ]
  },
  {
   "cell_type": "code",
   "execution_count": 86,
   "id": "9a446ae4",
   "metadata": {},
   "outputs": [
    {
     "name": "stdout",
     "output_type": "stream",
     "text": [
      "Distribución de los tipos de transacción antes del resampling Counter({0: 213236, 1: 369})\n",
      "Distribución de los tipos de transacción después del resampling Counter({0: 213236, 1: 213236})\n"
     ]
    }
   ],
   "source": [
    "over_sampling =  RandomOverSampler(random_state=42)\n",
    "X_train_res, y_train_res = over_sampling.fit_resample(X_train, y_train)\n",
    "\n",
    "print (\"Distribución de los tipos de transacción antes del resampling {}\".format(Counter(y_train)))\n",
    "print (\"Distribución de los tipos de transacción después del resampling {}\".format(Counter(y_train_res)))"
   ]
  },
  {
   "cell_type": "code",
   "execution_count": 87,
   "id": "1f79a5fd",
   "metadata": {},
   "outputs": [],
   "source": [
    "model = run_lr_model(X_train_res, X_test, y_train_res, y_test)"
   ]
  },
  {
   "cell_type": "code",
   "execution_count": 88,
   "id": "12d4c0cc",
   "metadata": {},
   "outputs": [
    {
     "data": {
      "image/png": "[encoded data removed]",
      "text/plain": [
       "<Figure size 864x864 with 2 Axes>"
      ]
     },
     "metadata": {
      "needs_background": "light"
     },
     "output_type": "display_data"
    },
    {
     "name": "stdout",
     "output_type": "stream",
     "text": [
      "              precision    recall  f1-score   support\n",
      "\n",
      "           0       1.00      0.98      0.99     71079\n",
      "           1       0.06      0.89      0.12       123\n",
      "\n",
      "    accuracy                           0.98     71202\n",
      "   macro avg       0.53      0.93      0.55     71202\n",
      "weighted avg       1.00      0.98      0.99     71202\n",
      "\n",
      "\n",
      "Recall: 0.8861788617886179\n",
      "\n",
      "ROC AUC: 0.9727740243679396\n"
     ]
    },
    {
     "data": {
      "image/png": "[encoded data removed]",
      "text/plain": [
       "<Figure size 432x288 with 1 Axes>"
      ]
     },
     "metadata": {
      "needs_background": "light"
     },
     "output_type": "display_data"
    }
   ],
   "source": [
    "resume_ros = show_results('RandomOverSampler', model, X_test, y_test)\n"
   ]
  },
  {
   "cell_type": "markdown",
   "id": "7ad27afc",
   "metadata": {},
   "source": [
    "Pasamos de 369 muestras de fraudes a 213236. Además, obtuvimos un 0.89 de recall para la clase 2 (transacciones fraudulentas) y los Falsos positivos son 1623."
   ]
  },
  {
   "cell_type": "code",
   "execution_count": 89,
   "id": "99a80540",
   "metadata": {},
   "outputs": [],
   "source": [
    "results = resume(results,resume_ros)"
   ]
  },
  {
   "cell_type": "markdown",
   "id": "eb2bc568",
   "metadata": {},
   "source": [
    "---\n",
    "<a id=\"smotetomek\"></a> \n",
    "#### 5.7.5. SMOTETomek. Regresión logística combinando resampling con Smote-Tomek.\n",
    "[Ir a índice](#indice)\n"
   ]
  },
  {
   "cell_type": "markdown",
   "id": "a3862b08",
   "metadata": {},
   "source": [
    "Ahora probaremos una técnica muy usada que consiste en aplicar en simultáneo un algoritmo de subsampling y otro de oversampling a la vez al dataset. En este caso usaremos SMOTE para oversampling: busca puntos vecinos cercanos y agrega puntos “en linea recta” entre ellos. Y usaremos Tomek para undersampling que quita los de distinta clase que sean nearest neighbor y deja ver mejor el decisión boundary (la zona limítrofe de nuestras clases)."
   ]
  },
  {
   "cell_type": "code",
   "execution_count": 90,
   "id": "984fcd3c",
   "metadata": {},
   "outputs": [
    {
     "name": "stdout",
     "output_type": "stream",
     "text": [
      "Distribución de los tipos de transacción antes del resampling Counter({0: 213236, 1: 369})\n",
      "Distribución de los tipos de transacción después del resampling Counter({0: 213236, 1: 213236})\n"
     ]
    }
   ],
   "source": [
    "smt = SMOTETomek(random_state=42)\n",
    "X_train_res, y_train_res = smt.fit_resample(X_train, y_train)\n",
    "\n",
    "print (\"Distribución de los tipos de transacción antes del resampling {}\".format(Counter(y_train)))\n",
    "print (\"Distribución de los tipos de transacción después del resampling {}\".format(Counter(y_train_res)))"
   ]
  },
  {
   "cell_type": "code",
   "execution_count": 91,
   "id": "e2080436",
   "metadata": {},
   "outputs": [],
   "source": [
    "model = run_lr_model(X_train_res, X_test, y_train_res, y_test)"
   ]
  },
  {
   "cell_type": "code",
   "execution_count": 92,
   "id": "e25e9f43",
   "metadata": {},
   "outputs": [
    {
     "data": {
      "image/png": "[encoded data removed]",
      "text/plain": [
       "<Figure size 864x864 with 2 Axes>"
      ]
     },
     "metadata": {
      "needs_background": "light"
     },
     "output_type": "display_data"
    },
    {
     "name": "stdout",
     "output_type": "stream",
     "text": [
      "              precision    recall  f1-score   support\n",
      "\n",
      "           0       1.00      0.98      0.99     71079\n",
      "           1       0.06      0.89      0.11       123\n",
      "\n",
      "    accuracy                           0.98     71202\n",
      "   macro avg       0.53      0.93      0.55     71202\n",
      "weighted avg       1.00      0.98      0.99     71202\n",
      "\n",
      "\n",
      "Recall: 0.8861788617886179\n",
      "\n",
      "ROC AUC: 0.9720242574476561\n"
     ]
    },
    {
     "data": {
      "image/png": "[encoded data removed]",
      "text/plain": [
       "<Figure size 432x288 with 1 Axes>"
      ]
     },
     "metadata": {
      "needs_background": "light"
     },
     "output_type": "display_data"
    }
   ],
   "source": [
    "resume_smote = show_results('SMOTETomek', model, X_test, y_test)"
   ]
  },
  {
   "cell_type": "code",
   "execution_count": 93,
   "id": "d89d0cf8",
   "metadata": {},
   "outputs": [],
   "source": [
    "results = resume(results,resume_smote)"
   ]
  },
  {
   "cell_type": "markdown",
   "id": "afa78aab",
   "metadata": {},
   "source": [
    "<!-- En este caso seguimos teniendo bastante buen recall 0.85 de la clase 2 y vemos que los Falsos positivos de la clase 1 son bastante pocos, 325 (de 85295 muestras). -->"
   ]
  },
  {
   "cell_type": "markdown",
   "id": "d98f1b60",
   "metadata": {},
   "source": [
    "---\n",
    "<a id=\"bbc\"></a> \n",
    "#### 5.7.6. BalancedBaggingClassifier. Regresión logística con ensamble de modelos con balanceo.\n",
    "[Ir a índice](#indice)"
   ]
  },
  {
   "cell_type": "markdown",
   "id": "a8c202af",
   "metadata": {},
   "source": [
    "Usaremos un Clasificador de Ensamble que utiliza Bagging y el modelo será un DecisionTree."
   ]
  },
  {
   "cell_type": "code",
   "execution_count": 94,
   "id": "6bf50fac",
   "metadata": {},
   "outputs": [],
   "source": [
    "#creamos un clasificador de árbol simple.\n",
    "clftree = DecisionTreeClassifier()"
   ]
  },
  {
   "cell_type": "code",
   "execution_count": 95,
   "id": "1b7a9e24",
   "metadata": {},
   "outputs": [],
   "source": [
    "#Con este clasificador simple, generamos el meta-modelo basado en la técnica de Bagging.\n",
    "bbc = BalancedBaggingClassifier(base_estimator=clftree, n_estimators=1000,\n",
    "                                bootstrap=True, n_jobs=-1,\n",
    "                                random_state=42)\n",
    "\n",
    "# entrenamos el modelo de Bagging.\n",
    "model = bbc.fit(X_train, y_train)"
   ]
  },
  {
   "cell_type": "code",
   "execution_count": 96,
   "id": "a693ce2b",
   "metadata": {},
   "outputs": [
    {
     "data": {
      "image/png": "[encoded data removed]",
      "text/plain": [
       "<Figure size 864x864 with 2 Axes>"
      ]
     },
     "metadata": {
      "needs_background": "light"
     },
     "output_type": "display_data"
    },
    {
     "name": "stdout",
     "output_type": "stream",
     "text": [
      "              precision    recall  f1-score   support\n",
      "\n",
      "           0       1.00      0.98      0.99     71079\n",
      "           1       0.08      0.90      0.14       123\n",
      "\n",
      "    accuracy                           0.98     71202\n",
      "   macro avg       0.54      0.94      0.57     71202\n",
      "weighted avg       1.00      0.98      0.99     71202\n",
      "\n",
      "\n",
      "Recall: 0.9024390243902439\n",
      "\n",
      "ROC AUC: 0.9757652569561613\n"
     ]
    },
    {
     "data": {
      "image/png": "[encoded data removed]",
      "text/plain": [
       "<Figure size 432x288 with 1 Axes>"
      ]
     },
     "metadata": {
      "needs_background": "light"
     },
     "output_type": "display_data"
    }
   ],
   "source": [
    "resume_bbc = show_results('BalancedBaggingClassifier', model, X_test, y_test)"
   ]
  },
  {
   "cell_type": "markdown",
   "id": "2eff7fdd",
   "metadata": {},
   "source": [
    "Obtuvimos un recall de 0.89 para los casos de fraude."
   ]
  },
  {
   "cell_type": "code",
   "execution_count": 97,
   "id": "1c9c52fd",
   "metadata": {},
   "outputs": [],
   "source": [
    "results = resume(results,resume_bbc)"
   ]
  },
  {
   "cell_type": "markdown",
   "id": "8d6d6a52",
   "metadata": {},
   "source": [
    "---\n",
    "<a id=\"resultados_estrategias\"></a> \n",
    "#### 5.8. Resultados de la aplicación de las estrategias para clases desbalanceadas.\n",
    "[Ir a índice](#indice)"
   ]
  },
  {
   "cell_type": "markdown",
   "id": "4412f36b",
   "metadata": {},
   "source": [
    "Mostramos el dataframe que fuimos armando, con un resumen de los resultados obtenidos para facilitar su comparación."
   ]
  },
  {
   "cell_type": "code",
   "execution_count": 98,
   "id": "093ec857",
   "metadata": {},
   "outputs": [
    {
     "data": {
      "text/html": [
       "<div>\n",
       "<style scoped>\n",
       "    .dataframe tbody tr th:only-of-type {\n",
       "        vertical-align: middle;\n",
       "    }\n",
       "\n",
       "    .dataframe tbody tr th {\n",
       "        vertical-align: top;\n",
       "    }\n",
       "\n",
       "    .dataframe thead th {\n",
       "        text-align: right;\n",
       "    }\n",
       "</style>\n",
       "<table border=\"1\" class=\"dataframe\">\n",
       "  <thead>\n",
       "    <tr style=\"text-align: right;\">\n",
       "      <th></th>\n",
       "      <th>Accuracy Score</th>\n",
       "      <th>Clasificador</th>\n",
       "      <th>Precision</th>\n",
       "      <th>ROC AUC</th>\n",
       "      <th>Recall</th>\n",
       "      <th>f1 Score</th>\n",
       "    </tr>\n",
       "  </thead>\n",
       "  <tbody>\n",
       "    <tr>\n",
       "      <th>5</th>\n",
       "      <td>0.98</td>\n",
       "      <td>BalancedBaggingClassifier</td>\n",
       "      <td>0.08</td>\n",
       "      <td>0.98</td>\n",
       "      <td>0.90</td>\n",
       "      <td>0.14</td>\n",
       "    </tr>\n",
       "    <tr>\n",
       "      <th>0</th>\n",
       "      <td>0.98</td>\n",
       "      <td>RandomOverSampler</td>\n",
       "      <td>0.06</td>\n",
       "      <td>0.97</td>\n",
       "      <td>0.89</td>\n",
       "      <td>0.12</td>\n",
       "    </tr>\n",
       "    <tr>\n",
       "      <th>1</th>\n",
       "      <td>0.98</td>\n",
       "      <td>Penalized Linear Regression</td>\n",
       "      <td>0.06</td>\n",
       "      <td>0.97</td>\n",
       "      <td>0.89</td>\n",
       "      <td>0.12</td>\n",
       "    </tr>\n",
       "    <tr>\n",
       "      <th>2</th>\n",
       "      <td>0.98</td>\n",
       "      <td>SMOTETomek</td>\n",
       "      <td>0.06</td>\n",
       "      <td>0.97</td>\n",
       "      <td>0.89</td>\n",
       "      <td>0.11</td>\n",
       "    </tr>\n",
       "    <tr>\n",
       "      <th>3</th>\n",
       "      <td>1.00</td>\n",
       "      <td>Logistic Regression</td>\n",
       "      <td>0.84</td>\n",
       "      <td>0.96</td>\n",
       "      <td>0.62</td>\n",
       "      <td>0.71</td>\n",
       "    </tr>\n",
       "    <tr>\n",
       "      <th>4</th>\n",
       "      <td>0.38</td>\n",
       "      <td>NearMiss</td>\n",
       "      <td>0.00</td>\n",
       "      <td>0.80</td>\n",
       "      <td>0.93</td>\n",
       "      <td>0.01</td>\n",
       "    </tr>\n",
       "  </tbody>\n",
       "</table>\n",
       "</div>"
      ],
      "text/plain": [
       "   Accuracy Score                 Clasificador  Precision  ROC AUC  Recall  \\\n",
       "5            0.98    BalancedBaggingClassifier       0.08     0.98    0.90   \n",
       "0            0.98            RandomOverSampler       0.06     0.97    0.89   \n",
       "1            0.98  Penalized Linear Regression       0.06     0.97    0.89   \n",
       "2            0.98                   SMOTETomek       0.06     0.97    0.89   \n",
       "3            1.00          Logistic Regression       0.84     0.96    0.62   \n",
       "4            0.38                     NearMiss       0.00     0.80    0.93   \n",
       "\n",
       "   f1 Score  \n",
       "5      0.14  \n",
       "0      0.12  \n",
       "1      0.12  \n",
       "2      0.11  \n",
       "3      0.71  \n",
       "4      0.01  "
      ]
     },
     "execution_count": 98,
     "metadata": {},
     "output_type": "execute_result"
    }
   ],
   "source": [
    "results"
   ]
  },
  {
   "cell_type": "markdown",
   "id": "44928038",
   "metadata": {},
   "source": [
    "Como podemos apreciar, con cualquiera de las técnicas que aplicamos mejoramos el modelo inicial de Regresión logística, siendo que en nuestro caso las estrategias de Penalización y Subsampling nos dieron el mejor resultado, cada una con un recall de 0.93."
   ]
  },
  {
   "cell_type": "markdown",
   "id": "cec51eb1",
   "metadata": {},
   "source": [
    "---\n",
    "<a id=\"svm\"></a> \n",
    "#### 5.9. Support-vector machines, SVM\n",
    "[Ir a índice](#indice)"
   ]
  },
  {
   "cell_type": "code",
   "execution_count": 99,
   "id": "dd6b9982",
   "metadata": {},
   "outputs": [],
   "source": [
    "model = SVC(probability = True)"
   ]
  },
  {
   "cell_type": "code",
   "execution_count": 100,
   "id": "7a0a72ea",
   "metadata": {},
   "outputs": [
    {
     "data": {
      "text/plain": [
       "SVC(probability=True)"
      ]
     },
     "execution_count": 100,
     "metadata": {},
     "output_type": "execute_result"
    }
   ],
   "source": [
    "model.fit(X_train, y_train)"
   ]
  },
  {
   "cell_type": "code",
   "execution_count": 101,
   "id": "c8f0658d",
   "metadata": {},
   "outputs": [
    {
     "data": {
      "image/png": "[encoded data removed]",
      "text/plain": [
       "<Figure size 864x864 with 2 Axes>"
      ]
     },
     "metadata": {
      "needs_background": "light"
     },
     "output_type": "display_data"
    },
    {
     "name": "stdout",
     "output_type": "stream",
     "text": [
      "              precision    recall  f1-score   support\n",
      "\n",
      "           0       1.00      1.00      1.00     71079\n",
      "           1       0.95      0.65      0.77       123\n",
      "\n",
      "    accuracy                           1.00     71202\n",
      "   macro avg       0.98      0.83      0.89     71202\n",
      "weighted avg       1.00      1.00      1.00     71202\n",
      "\n",
      "\n",
      "Recall: 0.6504065040650406\n",
      "\n",
      "ROC AUC: 0.9536435869993276\n"
     ]
    },
    {
     "data": {
      "image/png": "[encoded data removed]",
      "text/plain": [
       "<Figure size 432x288 with 1 Axes>"
      ]
     },
     "metadata": {
      "needs_background": "light"
     },
     "output_type": "display_data"
    }
   ],
   "source": [
    "resume_svm_1 = show_results('Suppor Vector Machines 1', model, X_test, y_test)"
   ]
  },
  {
   "cell_type": "code",
   "execution_count": 102,
   "id": "ddffd5bf",
   "metadata": {},
   "outputs": [],
   "source": [
    "results = resume(results,resume_svm_1)"
   ]
  },
  {
   "cell_type": "code",
   "execution_count": 105,
   "id": "444901f7",
   "metadata": {},
   "outputs": [],
   "source": [
    "model_2 = SVC(gamma=0.001, C=100, probability = True)"
   ]
  },
  {
   "cell_type": "code",
   "execution_count": 106,
   "id": "755eeee1",
   "metadata": {},
   "outputs": [
    {
     "data": {
      "image/png": "[encoded data removed]",
      "text/plain": [
       "<Figure size 864x864 with 2 Axes>"
      ]
     },
     "metadata": {
      "needs_background": "light"
     },
     "output_type": "display_data"
    },
    {
     "name": "stdout",
     "output_type": "stream",
     "text": [
      "              precision    recall  f1-score   support\n",
      "\n",
      "           0       1.00      1.00      1.00     71079\n",
      "           1       0.89      0.76      0.82       123\n",
      "\n",
      "    accuracy                           1.00     71202\n",
      "   macro avg       0.94      0.88      0.91     71202\n",
      "weighted avg       1.00      1.00      1.00     71202\n",
      "\n",
      "\n",
      "Recall: 0.7642276422764228\n",
      "\n",
      "ROC AUC: 0.938496865448121\n"
     ]
    },
    {
     "data": {
      "image/png": "[encoded data removed]",
      "text/plain": [
       "<Figure size 432x288 with 1 Axes>"
      ]
     },
     "metadata": {
      "needs_background": "light"
     },
     "output_type": "display_data"
    }
   ],
   "source": [
    "model_2.fit(X_train, y_train)\n",
    "resume_svm_2 = show_results('Suppor Vector Machines 2', model_2, X_test, y_test)"
   ]
  },
  {
   "cell_type": "code",
   "execution_count": 107,
   "id": "cfe7b617",
   "metadata": {},
   "outputs": [],
   "source": [
    "results = resume(results,resume_svm_2)"
   ]
  },
  {
   "cell_type": "markdown",
   "id": "797126b0",
   "metadata": {},
   "source": [
    "---\n",
    "<a id=\"random\"></a> \n",
    "#### 5.10. Random Forest\n",
    "[Ir a índice](#indice)"
   ]
  },
  {
   "cell_type": "markdown",
   "id": "07a7d2fd",
   "metadata": {},
   "source": [
    "Algunos de los parámetros más importantes son los siguientes:\n",
    "\n",
    "* `n_estimators`: el número de iteraciones (o sea, de `base_estimators`) para entrenar\n",
    "* `criterion`: define el criterio de impureza para evaluar la calidad de las particiones (por defecto, es `gini`) \n",
    "* `max_features`: la cantidad de features que extraerá para entrenar cada `base_estimator`. Por default es igual a `sqrt(X.shape[1])`\n",
    "* `bootstrap` y `bootstrap_features`: controla si tanto los n_samples como las features son extraidos con reposición.\n",
    "* `max_depth`: la pronfundidad máxima del árbol\n",
    "* `min_samples_leaf`: el número mínimo de n_samples para constituir una hoja del árbol (nodo terminal)\n",
    "* `min_samples_split`: el número mínimo de n_samples para realizar un split.\n",
    "\n",
    "y varios otros que pueden llegar a ser importantes al momento de realizar el tunning. En general, los más importantes suelen ser: `n_estimators`, `max_features`, `max_depth` y `min_samples_leaf`."
   ]
  },
  {
   "cell_type": "code",
   "execution_count": 108,
   "id": "27d3bef2",
   "metadata": {},
   "outputs": [
    {
     "name": "stderr",
     "output_type": "stream",
     "text": [
      "[Parallel(n_jobs=1)]: Using backend SequentialBackend with 1 concurrent workers.\n"
     ]
    },
    {
     "name": "stdout",
     "output_type": "stream",
     "text": [
      "building tree 1 of 100\n"
     ]
    },
    {
     "name": "stderr",
     "output_type": "stream",
     "text": [
      "[Parallel(n_jobs=1)]: Done   1 out of   1 | elapsed:    1.6s remaining:    0.0s\n"
     ]
    },
    {
     "name": "stdout",
     "output_type": "stream",
     "text": [
      "building tree 2 of 100\n",
      "building tree 3 of 100\n",
      "building tree 4 of 100\n",
      "building tree 5 of 100\n",
      "building tree 6 of 100\n",
      "building tree 7 of 100\n",
      "building tree 8 of 100\n",
      "building tree 9 of 100\n",
      "building tree 10 of 100\n",
      "building tree 11 of 100\n",
      "building tree 12 of 100\n",
      "building tree 13 of 100\n",
      "building tree 14 of 100\n",
      "building tree 15 of 100\n",
      "building tree 16 of 100\n",
      "building tree 17 of 100\n",
      "building tree 18 of 100\n",
      "building tree 19 of 100\n",
      "building tree 20 of 100\n",
      "building tree 21 of 100\n",
      "building tree 22 of 100\n",
      "building tree 23 of 100\n",
      "building tree 24 of 100\n",
      "building tree 25 of 100\n",
      "building tree 26 of 100\n",
      "building tree 27 of 100\n",
      "building tree 28 of 100\n",
      "building tree 29 of 100\n",
      "building tree 30 of 100\n",
      "building tree 31 of 100\n",
      "building tree 32 of 100\n",
      "building tree 33 of 100\n",
      "building tree 34 of 100\n",
      "building tree 35 of 100\n",
      "building tree 36 of 100\n",
      "building tree 37 of 100\n",
      "building tree 38 of 100\n",
      "building tree 39 of 100\n",
      "building tree 40 of 100\n",
      "building tree 41 of 100\n",
      "building tree 42 of 100\n",
      "building tree 43 of 100\n",
      "building tree 44 of 100\n",
      "building tree 45 of 100\n",
      "building tree 46 of 100\n",
      "building tree 47 of 100\n",
      "building tree 48 of 100\n",
      "building tree 49 of 100\n",
      "building tree 50 of 100\n",
      "building tree 51 of 100\n",
      "building tree 52 of 100\n",
      "building tree 53 of 100\n",
      "building tree 54 of 100\n",
      "building tree 55 of 100\n",
      "building tree 56 of 100\n",
      "building tree 57 of 100\n",
      "building tree 58 of 100\n",
      "building tree 59 of 100\n",
      "building tree 60 of 100\n",
      "building tree 61 of 100\n",
      "building tree 62 of 100\n",
      "building tree 63 of 100\n",
      "building tree 64 of 100\n",
      "building tree 65 of 100\n",
      "building tree 66 of 100\n",
      "building tree 67 of 100\n",
      "building tree 68 of 100\n",
      "building tree 69 of 100\n",
      "building tree 70 of 100\n",
      "building tree 71 of 100\n",
      "building tree 72 of 100\n",
      "building tree 73 of 100\n",
      "building tree 74 of 100\n",
      "building tree 75 of 100\n",
      "building tree 76 of 100\n",
      "building tree 77 of 100\n",
      "building tree 78 of 100\n",
      "building tree 79 of 100\n",
      "building tree 80 of 100\n",
      "building tree 81 of 100\n",
      "building tree 82 of 100\n",
      "building tree 83 of 100\n",
      "building tree 84 of 100\n",
      "building tree 85 of 100\n",
      "building tree 86 of 100\n",
      "building tree 87 of 100\n",
      "building tree 88 of 100\n",
      "building tree 89 of 100\n",
      "building tree 90 of 100\n",
      "building tree 91 of 100\n",
      "building tree 92 of 100\n",
      "building tree 93 of 100\n",
      "building tree 94 of 100\n",
      "building tree 95 of 100\n",
      "building tree 96 of 100\n",
      "building tree 97 of 100\n",
      "building tree 98 of 100\n",
      "building tree 99 of 100\n",
      "building tree 100 of 100\n"
     ]
    },
    {
     "name": "stderr",
     "output_type": "stream",
     "text": [
      "[Parallel(n_jobs=1)]: Done 100 out of 100 | elapsed:  2.9min finished\n"
     ]
    },
    {
     "data": {
      "text/plain": [
       "RandomForestClassifier(max_features='sqrt', verbose=2)"
      ]
     },
     "execution_count": 108,
     "metadata": {},
     "output_type": "execute_result"
    }
   ],
   "source": [
    "# Generaramos el meta-modelo basado en la técnica de Random Forest\n",
    "model = RandomForestClassifier(n_estimators=100, \n",
    "                               bootstrap = True,verbose=2,\n",
    "                               max_features = 'sqrt')\n",
    "#  entrenamos el modelo\n",
    "model.fit(X_train, y_train)"
   ]
  },
  {
   "cell_type": "code",
   "execution_count": 109,
   "id": "baac51c3",
   "metadata": {},
   "outputs": [
    {
     "name": "stderr",
     "output_type": "stream",
     "text": [
      "[Parallel(n_jobs=1)]: Using backend SequentialBackend with 1 concurrent workers.\n",
      "[Parallel(n_jobs=1)]: Done   1 out of   1 | elapsed:    0.0s remaining:    0.0s\n",
      "[Parallel(n_jobs=1)]: Done 100 out of 100 | elapsed:    0.7s finished\n",
      "[Parallel(n_jobs=1)]: Using backend SequentialBackend with 1 concurrent workers.\n",
      "[Parallel(n_jobs=1)]: Done   1 out of   1 | elapsed:    0.0s remaining:    0.0s\n",
      "[Parallel(n_jobs=1)]: Done 100 out of 100 | elapsed:    0.6s finished\n"
     ]
    },
    {
     "data": {
      "image/png": "[encoded data removed]",
      "text/plain": [
       "<Figure size 864x864 with 2 Axes>"
      ]
     },
     "metadata": {
      "needs_background": "light"
     },
     "output_type": "display_data"
    },
    {
     "name": "stdout",
     "output_type": "stream",
     "text": [
      "              precision    recall  f1-score   support\n",
      "\n",
      "           0       1.00      1.00      1.00     71079\n",
      "           1       0.96      0.77      0.86       123\n",
      "\n",
      "    accuracy                           1.00     71202\n",
      "   macro avg       0.98      0.89      0.93     71202\n",
      "weighted avg       1.00      1.00      1.00     71202\n",
      "\n",
      "\n",
      "Recall: 0.7723577235772358\n",
      "\n",
      "ROC AUC: 0.9414488653813226\n"
     ]
    },
    {
     "data": {
      "image/png": "[encoded data removed]",
      "text/plain": [
       "<Figure size 432x288 with 1 Axes>"
      ]
     },
     "metadata": {
      "needs_background": "light"
     },
     "output_type": "display_data"
    }
   ],
   "source": [
    "resume_rf_1 = show_results('RandomForestClassifier 1', model, X_test, y_test)"
   ]
  },
  {
   "cell_type": "code",
   "execution_count": 110,
   "id": "41154071",
   "metadata": {},
   "outputs": [],
   "source": [
    "results = resume(results,resume_rf_1)"
   ]
  },
  {
   "cell_type": "markdown",
   "id": "97fa3895",
   "metadata": {},
   "source": [
    "Probamos con otro bosque:"
   ]
  },
  {
   "cell_type": "code",
   "execution_count": 111,
   "id": "47e4414e",
   "metadata": {},
   "outputs": [
    {
     "name": "stderr",
     "output_type": "stream",
     "text": [
      "[Parallel(n_jobs=1)]: Using backend SequentialBackend with 1 concurrent workers.\n"
     ]
    },
    {
     "name": "stdout",
     "output_type": "stream",
     "text": [
      "building tree 1 of 100\n"
     ]
    },
    {
     "name": "stderr",
     "output_type": "stream",
     "text": [
      "[Parallel(n_jobs=1)]: Done   1 out of   1 | elapsed:    0.5s remaining:    0.0s\n"
     ]
    },
    {
     "name": "stdout",
     "output_type": "stream",
     "text": [
      "building tree 2 of 100\n",
      "building tree 3 of 100\n",
      "building tree 4 of 100\n",
      "building tree 5 of 100\n",
      "building tree 6 of 100\n",
      "building tree 7 of 100\n",
      "building tree 8 of 100\n",
      "building tree 9 of 100\n",
      "building tree 10 of 100\n",
      "building tree 11 of 100\n",
      "building tree 12 of 100\n",
      "building tree 13 of 100\n",
      "building tree 14 of 100\n",
      "building tree 15 of 100\n",
      "building tree 16 of 100\n",
      "building tree 17 of 100\n",
      "building tree 18 of 100\n",
      "building tree 19 of 100\n",
      "building tree 20 of 100\n",
      "building tree 21 of 100\n",
      "building tree 22 of 100\n",
      "building tree 23 of 100\n",
      "building tree 24 of 100\n",
      "building tree 25 of 100\n",
      "building tree 26 of 100\n",
      "building tree 27 of 100\n",
      "building tree 28 of 100\n",
      "building tree 29 of 100\n",
      "building tree 30 of 100\n",
      "building tree 31 of 100\n",
      "building tree 32 of 100\n",
      "building tree 33 of 100\n",
      "building tree 34 of 100\n",
      "building tree 35 of 100\n",
      "building tree 36 of 100\n",
      "building tree 37 of 100\n",
      "building tree 38 of 100\n",
      "building tree 39 of 100\n",
      "building tree 40 of 100\n",
      "building tree 41 of 100\n",
      "building tree 42 of 100\n",
      "building tree 43 of 100\n",
      "building tree 44 of 100\n",
      "building tree 45 of 100\n",
      "building tree 46 of 100\n",
      "building tree 47 of 100\n",
      "building tree 48 of 100\n",
      "building tree 49 of 100\n",
      "building tree 50 of 100\n",
      "building tree 51 of 100\n",
      "building tree 52 of 100\n",
      "building tree 53 of 100\n",
      "building tree 54 of 100\n",
      "building tree 55 of 100\n",
      "building tree 56 of 100\n",
      "building tree 57 of 100\n",
      "building tree 58 of 100\n",
      "building tree 59 of 100\n",
      "building tree 60 of 100\n",
      "building tree 61 of 100\n",
      "building tree 62 of 100\n",
      "building tree 63 of 100\n",
      "building tree 64 of 100\n",
      "building tree 65 of 100\n",
      "building tree 66 of 100\n",
      "building tree 67 of 100\n",
      "building tree 68 of 100\n",
      "building tree 69 of 100\n",
      "building tree 70 of 100\n",
      "building tree 71 of 100\n",
      "building tree 72 of 100\n",
      "building tree 73 of 100\n",
      "building tree 74 of 100\n",
      "building tree 75 of 100\n",
      "building tree 76 of 100\n",
      "building tree 77 of 100\n",
      "building tree 78 of 100\n",
      "building tree 79 of 100\n",
      "building tree 80 of 100\n",
      "building tree 81 of 100\n",
      "building tree 82 of 100\n",
      "building tree 83 of 100\n",
      "building tree 84 of 100\n",
      "building tree 85 of 100\n",
      "building tree 86 of 100\n",
      "building tree 87 of 100\n",
      "building tree 88 of 100\n",
      "building tree 89 of 100\n",
      "building tree 90 of 100\n",
      "building tree 91 of 100\n",
      "building tree 92 of 100\n",
      "building tree 93 of 100\n",
      "building tree 94 of 100\n",
      "building tree 95 of 100\n",
      "building tree 96 of 100\n",
      "building tree 97 of 100\n",
      "building tree 98 of 100\n",
      "building tree 99 of 100\n",
      "building tree 100 of 100\n"
     ]
    },
    {
     "name": "stderr",
     "output_type": "stream",
     "text": [
      "[Parallel(n_jobs=1)]: Done 100 out of 100 | elapsed:  1.3min finished\n"
     ]
    },
    {
     "data": {
      "text/plain": [
       "RandomForestClassifier(class_weight='balanced', max_depth=6,\n",
       "                       max_features='sqrt', oob_score=True, random_state=50,\n",
       "                       verbose=2)"
      ]
     },
     "execution_count": 111,
     "metadata": {},
     "output_type": "execute_result"
    }
   ],
   "source": [
    "# otro modelo, variando hiperparámetros\n",
    "model = RandomForestClassifier(n_estimators=100, class_weight=\"balanced\",\n",
    "                               max_features = 'sqrt', verbose=2, max_depth=6,\n",
    "                               oob_score=True, random_state=50)\n",
    "# a entrenar\n",
    "model.fit(X_train, y_train)"
   ]
  },
  {
   "cell_type": "code",
   "execution_count": 112,
   "id": "6d1cd203",
   "metadata": {},
   "outputs": [
    {
     "name": "stderr",
     "output_type": "stream",
     "text": [
      "[Parallel(n_jobs=1)]: Using backend SequentialBackend with 1 concurrent workers.\n",
      "[Parallel(n_jobs=1)]: Done   1 out of   1 | elapsed:    0.0s remaining:    0.0s\n",
      "[Parallel(n_jobs=1)]: Done 100 out of 100 | elapsed:    0.4s finished\n",
      "[Parallel(n_jobs=1)]: Using backend SequentialBackend with 1 concurrent workers.\n",
      "[Parallel(n_jobs=1)]: Done   1 out of   1 | elapsed:    0.0s remaining:    0.0s\n",
      "[Parallel(n_jobs=1)]: Done 100 out of 100 | elapsed:    0.4s finished\n"
     ]
    },
    {
     "data": {
      "image/png": "[encoded data removed]",
      "text/plain": [
       "<Figure size 864x864 with 2 Axes>"
      ]
     },
     "metadata": {
      "needs_background": "light"
     },
     "output_type": "display_data"
    },
    {
     "name": "stdout",
     "output_type": "stream",
     "text": [
      "              precision    recall  f1-score   support\n",
      "\n",
      "           0       1.00      1.00      1.00     71079\n",
      "           1       0.57      0.84      0.68       123\n",
      "\n",
      "    accuracy                           1.00     71202\n",
      "   macro avg       0.79      0.92      0.84     71202\n",
      "weighted avg       1.00      1.00      1.00     71202\n",
      "\n",
      "\n",
      "Recall: 0.8373983739837398\n",
      "\n",
      "ROC AUC: 0.9789939443310358\n"
     ]
    },
    {
     "data": {
      "image/png": "[encoded data removed]",
      "text/plain": [
       "<Figure size 432x288 with 1 Axes>"
      ]
     },
     "metadata": {
      "needs_background": "light"
     },
     "output_type": "display_data"
    }
   ],
   "source": [
    "resume_rf_2 = show_results('RandomForestClassifier 2', model, X_test, y_test)"
   ]
  },
  {
   "cell_type": "markdown",
   "id": "ddaaf82d",
   "metadata": {},
   "source": [
    "Veamos los resultados de ambos modelos:"
   ]
  },
  {
   "cell_type": "code",
   "execution_count": 113,
   "id": "cfa42b6b",
   "metadata": {},
   "outputs": [
    {
     "data": {
      "text/html": [
       "<div>\n",
       "<style scoped>\n",
       "    .dataframe tbody tr th:only-of-type {\n",
       "        vertical-align: middle;\n",
       "    }\n",
       "\n",
       "    .dataframe tbody tr th {\n",
       "        vertical-align: top;\n",
       "    }\n",
       "\n",
       "    .dataframe thead th {\n",
       "        text-align: right;\n",
       "    }\n",
       "</style>\n",
       "<table border=\"1\" class=\"dataframe\">\n",
       "  <thead>\n",
       "    <tr style=\"text-align: right;\">\n",
       "      <th></th>\n",
       "      <th>Accuracy Score</th>\n",
       "      <th>Clasificador</th>\n",
       "      <th>Precision</th>\n",
       "      <th>ROC AUC</th>\n",
       "      <th>Recall</th>\n",
       "      <th>f1 Score</th>\n",
       "    </tr>\n",
       "  </thead>\n",
       "  <tbody>\n",
       "    <tr>\n",
       "      <th>9</th>\n",
       "      <td>1.00</td>\n",
       "      <td>RandomForestClassifier 2</td>\n",
       "      <td>0.57</td>\n",
       "      <td>0.98</td>\n",
       "      <td>0.84</td>\n",
       "      <td>0.68</td>\n",
       "    </tr>\n",
       "    <tr>\n",
       "      <th>0</th>\n",
       "      <td>0.98</td>\n",
       "      <td>BalancedBaggingClassifier</td>\n",
       "      <td>0.08</td>\n",
       "      <td>0.98</td>\n",
       "      <td>0.90</td>\n",
       "      <td>0.14</td>\n",
       "    </tr>\n",
       "    <tr>\n",
       "      <th>1</th>\n",
       "      <td>0.98</td>\n",
       "      <td>RandomOverSampler</td>\n",
       "      <td>0.06</td>\n",
       "      <td>0.97</td>\n",
       "      <td>0.89</td>\n",
       "      <td>0.12</td>\n",
       "    </tr>\n",
       "    <tr>\n",
       "      <th>2</th>\n",
       "      <td>0.98</td>\n",
       "      <td>Penalized Linear Regression</td>\n",
       "      <td>0.06</td>\n",
       "      <td>0.97</td>\n",
       "      <td>0.89</td>\n",
       "      <td>0.12</td>\n",
       "    </tr>\n",
       "    <tr>\n",
       "      <th>3</th>\n",
       "      <td>0.98</td>\n",
       "      <td>SMOTETomek</td>\n",
       "      <td>0.06</td>\n",
       "      <td>0.97</td>\n",
       "      <td>0.89</td>\n",
       "      <td>0.11</td>\n",
       "    </tr>\n",
       "    <tr>\n",
       "      <th>4</th>\n",
       "      <td>1.00</td>\n",
       "      <td>Logistic Regression</td>\n",
       "      <td>0.84</td>\n",
       "      <td>0.96</td>\n",
       "      <td>0.62</td>\n",
       "      <td>0.71</td>\n",
       "    </tr>\n",
       "    <tr>\n",
       "      <th>5</th>\n",
       "      <td>1.00</td>\n",
       "      <td>Suppor Vector Machines 1</td>\n",
       "      <td>0.95</td>\n",
       "      <td>0.95</td>\n",
       "      <td>0.65</td>\n",
       "      <td>0.77</td>\n",
       "    </tr>\n",
       "    <tr>\n",
       "      <th>6</th>\n",
       "      <td>1.00</td>\n",
       "      <td>RandomForestClassifier 1</td>\n",
       "      <td>0.96</td>\n",
       "      <td>0.94</td>\n",
       "      <td>0.77</td>\n",
       "      <td>0.86</td>\n",
       "    </tr>\n",
       "    <tr>\n",
       "      <th>7</th>\n",
       "      <td>1.00</td>\n",
       "      <td>Suppor Vector Machines 2</td>\n",
       "      <td>0.89</td>\n",
       "      <td>0.94</td>\n",
       "      <td>0.76</td>\n",
       "      <td>0.82</td>\n",
       "    </tr>\n",
       "    <tr>\n",
       "      <th>8</th>\n",
       "      <td>0.38</td>\n",
       "      <td>NearMiss</td>\n",
       "      <td>0.00</td>\n",
       "      <td>0.80</td>\n",
       "      <td>0.93</td>\n",
       "      <td>0.01</td>\n",
       "    </tr>\n",
       "  </tbody>\n",
       "</table>\n",
       "</div>"
      ],
      "text/plain": [
       "   Accuracy Score                 Clasificador  Precision  ROC AUC  Recall  \\\n",
       "9            1.00     RandomForestClassifier 2       0.57     0.98    0.84   \n",
       "0            0.98    BalancedBaggingClassifier       0.08     0.98    0.90   \n",
       "1            0.98            RandomOverSampler       0.06     0.97    0.89   \n",
       "2            0.98  Penalized Linear Regression       0.06     0.97    0.89   \n",
       "3            0.98                   SMOTETomek       0.06     0.97    0.89   \n",
       "4            1.00          Logistic Regression       0.84     0.96    0.62   \n",
       "5            1.00     Suppor Vector Machines 1       0.95     0.95    0.65   \n",
       "6            1.00     RandomForestClassifier 1       0.96     0.94    0.77   \n",
       "7            1.00     Suppor Vector Machines 2       0.89     0.94    0.76   \n",
       "8            0.38                     NearMiss       0.00     0.80    0.93   \n",
       "\n",
       "   f1 Score  \n",
       "9      0.68  \n",
       "0      0.14  \n",
       "1      0.12  \n",
       "2      0.12  \n",
       "3      0.11  \n",
       "4      0.71  \n",
       "5      0.77  \n",
       "6      0.86  \n",
       "7      0.82  \n",
       "8      0.01  "
      ]
     },
     "execution_count": 113,
     "metadata": {},
     "output_type": "execute_result"
    }
   ],
   "source": [
    "results = resume(results,resume_rf_2)\n",
    "results"
   ]
  },
  {
   "cell_type": "markdown",
   "id": "aaa8facf",
   "metadata": {},
   "source": [
    "---\n",
    "<a id=\"naive_bayes\"></a> \n",
    "### 5.11. Naive Bayes.\n",
    "[Ir a índice](#indice)"
   ]
  },
  {
   "cell_type": "code",
   "execution_count": 114,
   "id": "6a00d747",
   "metadata": {},
   "outputs": [],
   "source": [
    "gnb = GaussianNB()"
   ]
  },
  {
   "cell_type": "code",
   "execution_count": 115,
   "id": "75f2a96a",
   "metadata": {},
   "outputs": [],
   "source": [
    "model_gnb, y_pred_gnb, y_pred_prob_gnb, train_pred_gnb = predict_estimator(gnb, X_test, X_train, y_train)"
   ]
  },
  {
   "cell_type": "code",
   "execution_count": 116,
   "id": "44706a0c",
   "metadata": {},
   "outputs": [
    {
     "data": {
      "image/png": "[encoded data removed]",
      "text/plain": [
       "<Figure size 864x864 with 2 Axes>"
      ]
     },
     "metadata": {
      "needs_background": "light"
     },
     "output_type": "display_data"
    },
    {
     "name": "stdout",
     "output_type": "stream",
     "text": [
      "              precision    recall  f1-score   support\n",
      "\n",
      "           0       1.00      0.98      0.99     71079\n",
      "           1       0.06      0.82      0.11       123\n",
      "\n",
      "    accuracy                           0.98     71202\n",
      "   macro avg       0.53      0.90      0.55     71202\n",
      "weighted avg       1.00      0.98      0.99     71202\n",
      "\n",
      "\n",
      "Recall: 0.8211382113821138\n",
      "\n",
      "ROC AUC: 0.957302003484729\n"
     ]
    },
    {
     "data": {
      "image/png": "[encoded data removed]",
      "text/plain": [
       "<Figure size 432x288 with 1 Axes>"
      ]
     },
     "metadata": {
      "needs_background": "light"
     },
     "output_type": "display_data"
    }
   ],
   "source": [
    "resume_gnb = show_results('GaussianNB', model_gnb, X_test, y_test)"
   ]
  },
  {
   "cell_type": "code",
   "execution_count": 117,
   "id": "a075a627",
   "metadata": {},
   "outputs": [],
   "source": [
    "results = resume(results,resume_gnb)"
   ]
  },
  {
   "cell_type": "code",
   "execution_count": 118,
   "id": "3b2c374d",
   "metadata": {},
   "outputs": [
    {
     "name": "stdout",
     "output_type": "stream",
     "text": [
      "Precisión en el set de Entrenamiento: 0.98\n",
      "Precisión en el set de Test: 0.98\n"
     ]
    }
   ],
   "source": [
    "print('Precisión en el set de Entrenamiento: {:.2f}'\n",
    "     .format(gnb.score(X_train, y_train)))\n",
    "print('Precisión en el set de Test: {:.2f}'\n",
    "     .format(gnb.score(X_test, y_test))) "
   ]
  },
  {
   "cell_type": "code",
   "execution_count": 119,
   "id": "ab3dd419",
   "metadata": {},
   "outputs": [
    {
     "name": "stdout",
     "output_type": "stream",
     "text": [
      "Total de Muestras en Test: 71202\n",
      "Fallos: 1622\n"
     ]
    }
   ],
   "source": [
    "# Print Test results\n",
    "print(\"Total de Muestras en Test: {}\\nFallos: {}\"\n",
    "      .format(\n",
    "          X_test.shape[0],\n",
    "          (y_test != y_pred_gnb).sum()\n",
    "))"
   ]
  },
  {
   "cell_type": "markdown",
   "id": "34c1331b",
   "metadata": {},
   "source": [
    "---\n",
    "<a id=\"fin\"></a> \n",
    "## 6. Resultados finales.\n",
    "[Ir a índice](#indice)\n"
   ]
  },
  {
   "cell_type": "markdown",
   "id": "6a2bd38d",
   "metadata": {},
   "source": [
    "Los outcomes o resultados en una clasificación se pueden dividir en cuatro clases:\n",
    "- **Falsos positivos (FP):** es una clase negativa que fue clasificada como positiva. TEn nuestro caso de análisis, en el cual nuestra clase positiva es predecir si una transacción es Fraudulenta, **FP** sería predecir que va a ser fraudulenta, pero resulta que es una transacción normal. \n",
    "- **Falsos negativas (FN):** es una clase positiva que fue clasificada como negativa. En nuestro ejemplo, un **FN** sería predecir que la transacción es normal y que luego sea fraudulenta. \n",
    "- **Verdaderos positivos (TP):** es una clase positiva clasificada correctamente. En nuestro caso, sería predecir que una transacción es fraudulenta, y luego realmente lo sea. \n",
    "- **Verdaderos negativos (TN):** es una clase negativa clasificada correctamente. En nuestro caso, sería predecir que una transacción no sea fraudulenta, y luego realmente es una transacción normal. \n"
   ]
  },
  {
   "cell_type": "markdown",
   "id": "59d59fb3",
   "metadata": {},
   "source": [
    "Éstos pueden verse de forma clara en la Matriz de confusión.\n",
    "\n",
    "La **Matriz de confusión** es una tabla de doble entrada donde se describen los **resultados observados** **vs. resultados predichos** (las predicciones que hicimos sobre las transacciones a partir de nuestro modelo). \n",
    "\n",
    "Nos permite discernir entre los casos **bien clasificados** y aquellos que fueron **erróneamente clasificados** por el modelo.\n",
    "\n",
    "A partir de la **Matriz de confusión** podemos construir las **outcomes** de la clasificación (**TP**, **TN**, **FP**, y **FN**).\n",
    "\n",
    "<img src=\"img/03_confusion_matriz.png\" alt=\"Drawing\" style=\"width: 500px;\"/>\n",
    "\n"
   ]
  },
  {
   "cell_type": "markdown",
   "id": "7a21160a",
   "metadata": {},
   "source": [
    "Además, a partir de la **Matriz de confusión** podemos derivar las **distintas métricas** que nos vas a permitir evaluar los modelos de clasificación (siendo que cada una de ellas hace foco en distintos cuadrantes de la matriz de confusión): accuracy, precision, recall sensitivity, specificity, F1 score."
   ]
  },
  {
   "cell_type": "markdown",
   "id": "5776e5df",
   "metadata": {},
   "source": [
    "* **Accuracy**: proporción de casos correctamente clasificados de los datos de test sobre el total de casos de test (TP + TN / P + N) ( es como decir \"N% (aprox.) de los casos —en el test set han sido correctamente clasificados..\")."
   ]
  },
  {
   "cell_type": "markdown",
   "id": "01ff5f63",
   "metadata": {},
   "source": [
    "##### En los problemas de **clases desbalanceadas**, como es típico en la temática en la cual estamos intentando aplicar los modelos, el **accuracy** suele ser alto porque esta métrica hace foco tanto en la detección correcta de **TN** como de **TP**. Pero nuestro problema de negocio requiere que nos concentremos más en la detección de los **TP** y no de los **TN**."
   ]
  },
  {
   "cell_type": "markdown",
   "id": "8b5386ab",
   "metadata": {},
   "source": [
    "* **Error de Clasificación**: Es, básicamente, el complemento del accuracy. Cuantifica el error total comentido por el clasificador. No tenemos un constructor de sklearn, sino que lo podemos estimar \"a mano\" (1 - accuracy_score)"
   ]
  },
  {
   "cell_type": "markdown",
   "id": "8e59b966",
   "metadata": {},
   "source": [
    "* **Sensitivity o recall o true positive rate (TPR)**: mide la capacidad (qué tan \"sensible\" es) del modelo de detectar los verdaderos positivos (TP) sobre todos los casos que son positivos (FN+TP o todos los positivos). En nuestro ejemplo, del total de transacciones fraudulentas, sería evaluar cuántas logra identificar correctamente el modelo (TP / P)."
   ]
  },
  {
   "cell_type": "markdown",
   "id": "801b9c26",
   "metadata": {},
   "source": [
    "##### ¿Cómo se interpreta? Según \"x\" recall_score, podríamos pensar que de cada 100 transacciones fraudulentas, nuestro modelo detectará \"x\" como fraudulentas y el resto las clasificará como transacciones normales.\n",
    "\n",
    "##### Comparado con el accuracy_score, esta medida nos da una mejor idea de cómo está funcionando nuestro modelo en relación al interés de nuestro negocio, y no va a estar afectada por los problemas de desbalanceo de clases."
   ]
  },
  {
   "cell_type": "markdown",
   "id": "1815ed36",
   "metadata": {},
   "source": [
    "* **Specificity** o **true negative rate (TNR)** mide la capacidad de detectar los **\"verdaderos negativos (TN)** sobre el total de casos que son negativos **(TN+FP)**. Es decir, nos da información sobre qué tan específico o selectivo es el modelo al predecir las instancias positivas ( TN / (TN + FP))."
   ]
  },
  {
   "cell_type": "markdown",
   "id": "febd9991",
   "metadata": {},
   "source": [
    "##### Mientras más se acerque a 1 elr esultado, nuesto modelo es muy específico, es decir que cometió pocos errores de falsos positivos.**Specificity** o **TNR** puede ser importante, cuando queremos evitar cometer errores y que nuestro modelo sea muy **específico**. PERO hay que tener en cuenta que priorizar modelos con <b>mayor especificidad</b>, puede generar <b>una pérdida en la sensibilidad</b>."
   ]
  },
  {
   "cell_type": "markdown",
   "id": "1ca07243",
   "metadata": {},
   "source": [
    "* **Precision** o **positive predictive value (PPV)** mide qué tan **\"preciso\"** es el clasificador al predecir las instancias positivas. Es decir, cuando el clasificador predice un valor positivo..., ¿qué tan frecuentemente es correcta esta predicción? Se calcula como el número de **predicciones correctas** sobre el **número total de predicciones** y nos permite evaluar el peso de los **Falsos Positivos (FP)**"
   ]
  },
  {
   "cell_type": "markdown",
   "id": "0967f7f1",
   "metadata": {},
   "source": [
    "##### Aunque parecen lo mismo, especificidad y pecisión son muy distintos. Aunque en ambos están pesando los falsos positivos (FP),en la especificidad evaluamos los errores que cometemos en relación a los TN, mientras que con la precisión evaluamos cuán precisos somos cada vez que decimos que una transacción es fraudulenta, con lo que estamos evaluando los errores en relación al TP.\n",
    "\n",
    "##### Dependiendo del problema de negocio que estemos evaluando, quizás nuestro objetivo sea tener una precisión muy alta. Es decir, que de cada 100 predicciones positivas, la mayoría sean verdaderas y cometamos un bajo porcentaje de falsos positivos (FP)."
   ]
  },
  {
   "cell_type": "markdown",
   "id": "3c643f6b",
   "metadata": {},
   "source": [
    "* **False positive rate (FPR)**: se calcula como el número de clases incorrectas predichas, sobre el total de clases negativas. El mejor **FPR** es 0, mientras que el peor es 1. Se calcula como 1-specificity."
   ]
  },
  {
   "cell_type": "markdown",
   "id": "df7490f8",
   "metadata": {},
   "source": [
    "##### Este valor es el complemento de la especificidad, así que su interpretación es también el complemento. En este caso nos está indicand cuántos errores cometió de falsos positivos (es decir que pocas veces dijo que una transacción era fraudulenta, cuando en realidad era una transacción normal)."
   ]
  },
  {
   "cell_type": "markdown",
   "id": "4544535a",
   "metadata": {},
   "source": [
    "* **F1-Score**: Es un promedio armónico entre precision y recall. En caso de obtener un bajo valor de `f1_score`, porque tanto el recall como la precision tienen valores bajos, implica que nuestro modelo ni es bueno identificando las clases positivas, ni tampoco es preciso haciéndolo."
   ]
  },
  {
   "cell_type": "markdown",
   "id": "3280cd8f",
   "metadata": {},
   "source": [
    "* **Curva ROC**: es un plot que nos permite evaluar en un modelo la relación entre dos métricas que vimos anteriormente: **specificity** (que también se calcula como $1-FPR$, tasa de falsos negativos) y **sensitivity** (o también denominada **recall** o $TPR$, tasa de verdaderos positivos). Nos permite estimarel **Area bajo la curva (AUC por sus siglas en inglés, Area under the curve)**. El **AUC** intenta resumir en una sóla métrica la relación que muestra el gráfico entre **sensitivity** y **specificity** y así poder comparar modelos utilizando esa métrica:"
   ]
  },
  {
   "cell_type": "code",
   "execution_count": 120,
   "id": "8c1e4555",
   "metadata": {},
   "outputs": [
    {
     "data": {
      "text/html": [
       "<div>\n",
       "<style scoped>\n",
       "    .dataframe tbody tr th:only-of-type {\n",
       "        vertical-align: middle;\n",
       "    }\n",
       "\n",
       "    .dataframe tbody tr th {\n",
       "        vertical-align: top;\n",
       "    }\n",
       "\n",
       "    .dataframe thead th {\n",
       "        text-align: right;\n",
       "    }\n",
       "</style>\n",
       "<table border=\"1\" class=\"dataframe\">\n",
       "  <thead>\n",
       "    <tr style=\"text-align: right;\">\n",
       "      <th></th>\n",
       "      <th>Accuracy Score</th>\n",
       "      <th>Clasificador</th>\n",
       "      <th>Precision</th>\n",
       "      <th>ROC AUC</th>\n",
       "      <th>Recall</th>\n",
       "      <th>f1 Score</th>\n",
       "    </tr>\n",
       "  </thead>\n",
       "  <tbody>\n",
       "    <tr>\n",
       "      <th>0</th>\n",
       "      <td>1.00</td>\n",
       "      <td>RandomForestClassifier 2</td>\n",
       "      <td>0.57</td>\n",
       "      <td>0.98</td>\n",
       "      <td>0.84</td>\n",
       "      <td>0.68</td>\n",
       "    </tr>\n",
       "    <tr>\n",
       "      <th>1</th>\n",
       "      <td>0.98</td>\n",
       "      <td>BalancedBaggingClassifier</td>\n",
       "      <td>0.08</td>\n",
       "      <td>0.98</td>\n",
       "      <td>0.90</td>\n",
       "      <td>0.14</td>\n",
       "    </tr>\n",
       "    <tr>\n",
       "      <th>2</th>\n",
       "      <td>0.98</td>\n",
       "      <td>RandomOverSampler</td>\n",
       "      <td>0.06</td>\n",
       "      <td>0.97</td>\n",
       "      <td>0.89</td>\n",
       "      <td>0.12</td>\n",
       "    </tr>\n",
       "    <tr>\n",
       "      <th>3</th>\n",
       "      <td>0.98</td>\n",
       "      <td>Penalized Linear Regression</td>\n",
       "      <td>0.06</td>\n",
       "      <td>0.97</td>\n",
       "      <td>0.89</td>\n",
       "      <td>0.12</td>\n",
       "    </tr>\n",
       "    <tr>\n",
       "      <th>4</th>\n",
       "      <td>0.98</td>\n",
       "      <td>SMOTETomek</td>\n",
       "      <td>0.06</td>\n",
       "      <td>0.97</td>\n",
       "      <td>0.89</td>\n",
       "      <td>0.11</td>\n",
       "    </tr>\n",
       "    <tr>\n",
       "      <th>5</th>\n",
       "      <td>1.00</td>\n",
       "      <td>Logistic Regression</td>\n",
       "      <td>0.84</td>\n",
       "      <td>0.96</td>\n",
       "      <td>0.62</td>\n",
       "      <td>0.71</td>\n",
       "    </tr>\n",
       "    <tr>\n",
       "      <th>10</th>\n",
       "      <td>0.98</td>\n",
       "      <td>GaussianNB</td>\n",
       "      <td>0.06</td>\n",
       "      <td>0.96</td>\n",
       "      <td>0.82</td>\n",
       "      <td>0.11</td>\n",
       "    </tr>\n",
       "    <tr>\n",
       "      <th>6</th>\n",
       "      <td>1.00</td>\n",
       "      <td>Suppor Vector Machines 1</td>\n",
       "      <td>0.95</td>\n",
       "      <td>0.95</td>\n",
       "      <td>0.65</td>\n",
       "      <td>0.77</td>\n",
       "    </tr>\n",
       "    <tr>\n",
       "      <th>7</th>\n",
       "      <td>1.00</td>\n",
       "      <td>RandomForestClassifier 1</td>\n",
       "      <td>0.96</td>\n",
       "      <td>0.94</td>\n",
       "      <td>0.77</td>\n",
       "      <td>0.86</td>\n",
       "    </tr>\n",
       "    <tr>\n",
       "      <th>8</th>\n",
       "      <td>1.00</td>\n",
       "      <td>Suppor Vector Machines 2</td>\n",
       "      <td>0.89</td>\n",
       "      <td>0.94</td>\n",
       "      <td>0.76</td>\n",
       "      <td>0.82</td>\n",
       "    </tr>\n",
       "    <tr>\n",
       "      <th>9</th>\n",
       "      <td>0.38</td>\n",
       "      <td>NearMiss</td>\n",
       "      <td>0.00</td>\n",
       "      <td>0.80</td>\n",
       "      <td>0.93</td>\n",
       "      <td>0.01</td>\n",
       "    </tr>\n",
       "  </tbody>\n",
       "</table>\n",
       "</div>"
      ],
      "text/plain": [
       "    Accuracy Score                 Clasificador  Precision  ROC AUC  Recall  \\\n",
       "0             1.00     RandomForestClassifier 2       0.57     0.98    0.84   \n",
       "1             0.98    BalancedBaggingClassifier       0.08     0.98    0.90   \n",
       "2             0.98            RandomOverSampler       0.06     0.97    0.89   \n",
       "3             0.98  Penalized Linear Regression       0.06     0.97    0.89   \n",
       "4             0.98                   SMOTETomek       0.06     0.97    0.89   \n",
       "5             1.00          Logistic Regression       0.84     0.96    0.62   \n",
       "10            0.98                   GaussianNB       0.06     0.96    0.82   \n",
       "6             1.00     Suppor Vector Machines 1       0.95     0.95    0.65   \n",
       "7             1.00     RandomForestClassifier 1       0.96     0.94    0.77   \n",
       "8             1.00     Suppor Vector Machines 2       0.89     0.94    0.76   \n",
       "9             0.38                     NearMiss       0.00     0.80    0.93   \n",
       "\n",
       "    f1 Score  \n",
       "0       0.68  \n",
       "1       0.14  \n",
       "2       0.12  \n",
       "3       0.12  \n",
       "4       0.11  \n",
       "5       0.71  \n",
       "10      0.11  \n",
       "6       0.77  \n",
       "7       0.86  \n",
       "8       0.82  \n",
       "9       0.01  "
      ]
     },
     "execution_count": 120,
     "metadata": {},
     "output_type": "execute_result"
    }
   ],
   "source": [
    "#Mostramos el dataframe con todos los resultados.\n",
    "results"
   ]
  },
  {
   "cell_type": "markdown",
   "id": "24114684",
   "metadata": {},
   "source": [
    "---\n",
    "<a id=\"conclusiones\"></a> \n",
    "## 7. Conclusiones.\n",
    "[Ir a índice](#indice)\n"
   ]
  },
  {
   "cell_type": "markdown",
   "id": "a89f46ff",
   "metadata": {},
   "source": []
  }
 ],
 "metadata": {
  "kernelspec": {
   "display_name": "Python 3 (ipykernel)",
   "language": "python",
   "name": "python3"
  },
  "language_info": {
   "codemirror_mode": {
    "name": "ipython",
    "version": 3
   },
   "file_extension": ".py",
   "mimetype": "text/x-python",
   "name": "python",
   "nbconvert_exporter": "python",
   "pygments_lexer": "ipython3",
   "version": "3.8.12"
  }
 },
 "nbformat": 4,
 "nbformat_minor": 5
}
